{
 "cells": [
  {
   "cell_type": "markdown",
   "id": "3de89a99-a653-41f4-b21a-669c8d78d5ca",
   "metadata": {},
   "source": [
    "<h3>Загрузка датасету</h3>"
   ]
  },
  {
   "cell_type": "code",
   "execution_count": 1,
   "id": "e3050e7a-1b13-4f17-977a-1ee6b212bc81",
   "metadata": {
    "tags": []
   },
   "outputs": [
    {
     "data": {
      "text/html": [
       "<div>\n",
       "<style scoped>\n",
       "    .dataframe tbody tr th:only-of-type {\n",
       "        vertical-align: middle;\n",
       "    }\n",
       "\n",
       "    .dataframe tbody tr th {\n",
       "        vertical-align: top;\n",
       "    }\n",
       "\n",
       "    .dataframe thead th {\n",
       "        text-align: right;\n",
       "    }\n",
       "</style>\n",
       "<table border=\"1\" class=\"dataframe\">\n",
       "  <thead>\n",
       "    <tr style=\"text-align: right;\">\n",
       "      <th></th>\n",
       "      <th>User ID</th>\n",
       "      <th>Gender</th>\n",
       "      <th>Age</th>\n",
       "      <th>EstimatedSalary</th>\n",
       "      <th>Purchased</th>\n",
       "    </tr>\n",
       "  </thead>\n",
       "  <tbody>\n",
       "    <tr>\n",
       "      <th>0</th>\n",
       "      <td>15624510</td>\n",
       "      <td>Male</td>\n",
       "      <td>19</td>\n",
       "      <td>19000</td>\n",
       "      <td>0</td>\n",
       "    </tr>\n",
       "    <tr>\n",
       "      <th>1</th>\n",
       "      <td>15810944</td>\n",
       "      <td>Male</td>\n",
       "      <td>35</td>\n",
       "      <td>20000</td>\n",
       "      <td>0</td>\n",
       "    </tr>\n",
       "    <tr>\n",
       "      <th>2</th>\n",
       "      <td>15668575</td>\n",
       "      <td>Female</td>\n",
       "      <td>26</td>\n",
       "      <td>43000</td>\n",
       "      <td>0</td>\n",
       "    </tr>\n",
       "    <tr>\n",
       "      <th>3</th>\n",
       "      <td>15603246</td>\n",
       "      <td>Female</td>\n",
       "      <td>27</td>\n",
       "      <td>57000</td>\n",
       "      <td>0</td>\n",
       "    </tr>\n",
       "    <tr>\n",
       "      <th>4</th>\n",
       "      <td>15804002</td>\n",
       "      <td>Male</td>\n",
       "      <td>19</td>\n",
       "      <td>76000</td>\n",
       "      <td>0</td>\n",
       "    </tr>\n",
       "    <tr>\n",
       "      <th>...</th>\n",
       "      <td>...</td>\n",
       "      <td>...</td>\n",
       "      <td>...</td>\n",
       "      <td>...</td>\n",
       "      <td>...</td>\n",
       "    </tr>\n",
       "    <tr>\n",
       "      <th>395</th>\n",
       "      <td>15691863</td>\n",
       "      <td>Female</td>\n",
       "      <td>46</td>\n",
       "      <td>41000</td>\n",
       "      <td>1</td>\n",
       "    </tr>\n",
       "    <tr>\n",
       "      <th>396</th>\n",
       "      <td>15706071</td>\n",
       "      <td>Male</td>\n",
       "      <td>51</td>\n",
       "      <td>23000</td>\n",
       "      <td>1</td>\n",
       "    </tr>\n",
       "    <tr>\n",
       "      <th>397</th>\n",
       "      <td>15654296</td>\n",
       "      <td>Female</td>\n",
       "      <td>50</td>\n",
       "      <td>20000</td>\n",
       "      <td>1</td>\n",
       "    </tr>\n",
       "    <tr>\n",
       "      <th>398</th>\n",
       "      <td>15755018</td>\n",
       "      <td>Male</td>\n",
       "      <td>36</td>\n",
       "      <td>33000</td>\n",
       "      <td>0</td>\n",
       "    </tr>\n",
       "    <tr>\n",
       "      <th>399</th>\n",
       "      <td>15594041</td>\n",
       "      <td>Female</td>\n",
       "      <td>49</td>\n",
       "      <td>36000</td>\n",
       "      <td>1</td>\n",
       "    </tr>\n",
       "  </tbody>\n",
       "</table>\n",
       "<p>400 rows × 5 columns</p>\n",
       "</div>"
      ],
      "text/plain": [
       "      User ID  Gender  Age  EstimatedSalary  Purchased\n",
       "0    15624510    Male   19            19000          0\n",
       "1    15810944    Male   35            20000          0\n",
       "2    15668575  Female   26            43000          0\n",
       "3    15603246  Female   27            57000          0\n",
       "4    15804002    Male   19            76000          0\n",
       "..        ...     ...  ...              ...        ...\n",
       "395  15691863  Female   46            41000          1\n",
       "396  15706071    Male   51            23000          1\n",
       "397  15654296  Female   50            20000          1\n",
       "398  15755018    Male   36            33000          0\n",
       "399  15594041  Female   49            36000          1\n",
       "\n",
       "[400 rows x 5 columns]"
      ]
     },
     "execution_count": 1,
     "metadata": {},
     "output_type": "execute_result"
    }
   ],
   "source": [
    "import pandas as pd\n",
    "from sklearn.model_selection import train_test_split\n",
    "from sklearn.linear_model import LogisticRegression\n",
    "from sklearn.metrics import accuracy_score\n",
    "from sklearn.model_selection import RandomizedSearchCV, GridSearchCV\n",
    "import numpy as np\n",
    "\n",
    "# Завантаження та підготовка даних\n",
    "dataset = pd.read_csv('Social_Network_Ads.csv')\n",
    "dataset"
   ]
  },
  {
   "cell_type": "markdown",
   "id": "8ef464ce-8808-4ad2-b2cd-c05650f2562b",
   "metadata": {},
   "source": [
    "<h3>Розділення даних на X та Y</h3>"
   ]
  },
  {
   "cell_type": "code",
   "execution_count": 2,
   "id": "8b6c9856-14f1-48b1-a10d-b2cd2c9af0a9",
   "metadata": {
    "tags": []
   },
   "outputs": [],
   "source": [
    "X = dataset[['Age', 'EstimatedSalary']]\n",
    "y = dataset['Purchased']"
   ]
  },
  {
   "cell_type": "markdown",
   "id": "f7d586dd-82d5-403c-aad4-03eb1d56368c",
   "metadata": {},
   "source": [
    "<h3>Розділення на тестову та тренувальну вибірки</h3>"
   ]
  },
  {
   "cell_type": "code",
   "execution_count": 3,
   "id": "836f79ff-86f3-492e-8639-1108166aeabb",
   "metadata": {
    "tags": []
   },
   "outputs": [],
   "source": [
    "X_train, X_test, y_train, y_test = train_test_split(X, y, test_size=0.3, random_state=42)"
   ]
  },
  {
   "cell_type": "markdown",
   "id": "a23c096e-433e-45f1-9ddd-e4f833b726ea",
   "metadata": {},
   "source": [
    "<h3>Стандартизація ознак</h3>"
   ]
  },
  {
   "cell_type": "code",
   "execution_count": 4,
   "id": "9970d0a5-be45-470a-9b0c-0963fae312cb",
   "metadata": {
    "tags": []
   },
   "outputs": [],
   "source": [
    "from sklearn.preprocessing import StandardScaler\n",
    "scaler = StandardScaler()\n",
    "X_train = scaler.fit_transform(X_train)\n",
    "X_test = scaler.transform(X_test)"
   ]
  },
  {
   "cell_type": "markdown",
   "id": "49a383ed-8f13-4714-ad84-95bd7175589a",
   "metadata": {},
   "source": [
    "<h3>Рандомний та сітковий пошук оптимальниї параметрів (з використанням тренувальної вибірки)</h3>"
   ]
  },
  {
   "cell_type": "code",
   "execution_count": 5,
   "id": "795532d8-8b28-4604-a2ae-db8fcbc8a73d",
   "metadata": {
    "tags": []
   },
   "outputs": [
    {
     "name": "stdout",
     "output_type": "stream",
     "text": [
      "Найкращі параметри для Random Search:\n",
      "{'n_estimators': 50, 'min_samples_split': 10, 'min_samples_leaf': 1, 'max_depth': 30}\n",
      "\n",
      "Найкращі параметри для Grid Search:\n",
      "{'max_depth': None, 'min_samples_leaf': 2, 'min_samples_split': 2, 'n_estimators': 50}\n"
     ]
    }
   ],
   "source": [
    "from sklearn.model_selection import train_test_split, RandomizedSearchCV, GridSearchCV\n",
    "from sklearn.ensemble import RandomForestClassifier\n",
    "# Визначаємо параметри, які ми хочемо оптимізувати\n",
    "param_grid = {\n",
    "    'n_estimators': [10, 50, 100, 200],\n",
    "    'max_depth': [None, 10, 20, 30],\n",
    "    'min_samples_split': [2, 5, 10],\n",
    "    'min_samples_leaf': [1, 2, 4]\n",
    "}\n",
    "\n",
    "# Random Search\n",
    "rf = RandomForestClassifier(random_state=42)\n",
    "random_search = RandomizedSearchCV(rf, param_distributions=param_grid, n_iter=10, random_state=42, cv=5)\n",
    "random_search.fit(X_train, y_train)\n",
    "\n",
    "# Grid Search\n",
    "grid_search = GridSearchCV(rf, param_grid=param_grid, cv=5)\n",
    "grid_search.fit(X_train, y_train)\n",
    "\n",
    "# Виводимо найкращі параметри для Random Search та Grid Search\n",
    "print(\"Найкращі параметри для Random Search:\")\n",
    "print(random_search.best_params_)\n",
    "\n",
    "print(\"\\nНайкращі параметри для Grid Search:\")\n",
    "print(grid_search.best_params_)"
   ]
  },
  {
   "cell_type": "markdown",
   "id": "ceae8179-bafa-4ae7-ba93-b6d1d5838d8d",
   "metadata": {},
   "source": [
    "<h3>Оцінювання точністі моделі з найкращими параметрами (рандомного та сіткового пошуку)</h3>"
   ]
  },
  {
   "cell_type": "code",
   "execution_count": 6,
   "id": "a51e6ebd-6ea1-447e-ae86-5395ad8abdac",
   "metadata": {
    "tags": []
   },
   "outputs": [
    {
     "name": "stdout",
     "output_type": "stream",
     "text": [
      "Точність моделі з найкращими параметрами (Random Search): 95.00%\n",
      "Точність моделі з найкращими параметрами (Grid Search): 95.00%\n"
     ]
    }
   ],
   "source": [
    "from sklearn.metrics import accuracy_score\n",
    "\n",
    "# Використовуємо найкращі параметри для Random Search та Grid Search\n",
    "best_params_random = random_search.best_params_\n",
    "best_params_grid = grid_search.best_params_\n",
    "\n",
    "# Ініціалізуємо моделі з найкращими параметрами\n",
    "rf_random = RandomForestClassifier(random_state=42, **best_params_random)\n",
    "rf_grid = RandomForestClassifier(random_state=42, **best_params_grid)\n",
    "\n",
    "# Тренуємо моделі на тренувальних даних\n",
    "rf_random.fit(X_train, y_train)\n",
    "rf_grid.fit(X_train, y_train)\n",
    "\n",
    "# Робимо прогнози на тестових даних\n",
    "y_pred_random = rf_random.predict(X_test)\n",
    "y_pred_grid = rf_grid.predict(X_test)\n",
    "\n",
    "# Оцінюємо точність моделей\n",
    "accuracy_random = accuracy_score(y_test, y_pred_random)\n",
    "accuracy_grid = accuracy_score(y_test, y_pred_grid)\n",
    "\n",
    "print(\"Точність моделі з найкращими параметрами (Random Search): {:.2f}%\".format(accuracy_random * 100))\n",
    "print(\"Точність моделі з найкращими параметрами (Grid Search): {:.2f}%\".format(accuracy_grid * 100))\n"
   ]
  },
  {
   "cell_type": "markdown",
   "id": "424520f6-3b94-4099-b76d-cfa19c1eecf1",
   "metadata": {},
   "source": [
    "<h3>Оцінювання точністі після крос-валідації</h3>"
   ]
  },
  {
   "cell_type": "code",
   "execution_count": 9,
   "id": "3a06a0a8-4e34-4353-a849-5c2d3d7b016f",
   "metadata": {
    "tags": []
   },
   "outputs": [
    {
     "name": "stdout",
     "output_type": "stream",
     "text": [
      "Середня точність після крос-валідації (Random Search): 89.29%\n",
      "Середня точність після крос-валідації (Grid Search): 89.64%\n"
     ]
    }
   ],
   "source": [
    "from sklearn.model_selection import cross_val_score\n",
    "\n",
    "# Крос-валідація для моделі з найкращими параметрами (Random Search)\n",
    "cross_val_scores_random = cross_val_score(rf_random, X_train, y_train, cv=5)\n",
    "mean_accuracy_random = cross_val_scores_random.mean()\n",
    "\n",
    "# Крос-валідація для моделі з найкращими параметрами (Grid Search)\n",
    "cross_val_scores_grid = cross_val_score(rf_grid, X_train, y_train, cv=5)\n",
    "mean_accuracy_grid = cross_val_scores_grid.mean()\n",
    "\n",
    "print(\"Середня точність після крос-валідації (Random Search): {:.2f}%\".format(mean_accuracy_random * 100))\n",
    "print(\"Середня точність після крос-валідації (Grid Search): {:.2f}%\".format(mean_accuracy_grid * 100))\n"
   ]
  },
  {
   "cell_type": "markdown",
   "id": "057a198f-95d4-400c-b08f-ff6d4ac9719d",
   "metadata": {},
   "source": [
    "<h3>Точність моделі без крос-валідації</h3>"
   ]
  },
  {
   "cell_type": "code",
   "execution_count": 10,
   "id": "b41e6834-1492-42af-afda-306b01589113",
   "metadata": {
    "tags": []
   },
   "outputs": [
    {
     "name": "stdout",
     "output_type": "stream",
     "text": [
      "Точність моделі без крос-валідації: 99.50%\n"
     ]
    }
   ],
   "source": [
    "# Ініціалізуємо та тренуємо модель на всьому наборі даних\n",
    "rf = RandomForestClassifier(random_state=42)\n",
    "rf.fit(X, y)\n",
    "\n",
    "# Робимо прогнози на тому ж наборі даних\n",
    "y_pred = rf.predict(X)\n",
    "\n",
    "# Оцінюємо точність моделі\n",
    "accuracy = accuracy_score(y, y_pred)\n",
    "\n",
    "print(\"Точність моделі без крос-валідації: {:.2f}%\".format(accuracy * 100))"
   ]
  },
  {
   "cell_type": "markdown",
   "id": "694d86d1-bb30-42f9-8b04-1f56e7772506",
   "metadata": {},
   "source": [
    "<h3>Поєднання Random та Grid Search</h3>"
   ]
  },
  {
   "cell_type": "code",
   "execution_count": 11,
   "id": "ee1e392b-e9ba-407c-b491-f958f4b232e2",
   "metadata": {
    "tags": []
   },
   "outputs": [
    {
     "name": "stdout",
     "output_type": "stream",
     "text": [
      "Найкращі параметри для Random Search:\n",
      "{'n_estimators': 50, 'min_samples_split': 2, 'min_samples_leaf': 4, 'max_depth': 20}\n",
      "\n",
      "Найкращі параметри для Grid Search:\n",
      "{'max_depth': 20, 'min_samples_leaf': 5, 'min_samples_split': 2, 'n_estimators': 50}\n",
      "Точність моделі з найкращими параметрами (Random Search): 92.50%\n",
      "Точність моделі з найкращими параметрами (Grid Search): 92.50%\n"
     ]
    },
    {
     "name": "stderr",
     "output_type": "stream",
     "text": [
      "C:\\Users\\amigo\\anaconda3\\Lib\\site-packages\\sklearn\\model_selection\\_validation.py:425: FitFailedWarning: \n",
      "45 fits failed out of a total of 135.\n",
      "The score on these train-test partitions for these parameters will be set to nan.\n",
      "If these failures are not expected, you can try to debug them by setting error_score='raise'.\n",
      "\n",
      "Below are more details about the failures:\n",
      "--------------------------------------------------------------------------------\n",
      "45 fits failed with the following error:\n",
      "Traceback (most recent call last):\n",
      "  File \"C:\\Users\\amigo\\anaconda3\\Lib\\site-packages\\sklearn\\model_selection\\_validation.py\", line 732, in _fit_and_score\n",
      "    estimator.fit(X_train, y_train, **fit_params)\n",
      "  File \"C:\\Users\\amigo\\anaconda3\\Lib\\site-packages\\sklearn\\base.py\", line 1144, in wrapper\n",
      "    estimator._validate_params()\n",
      "  File \"C:\\Users\\amigo\\anaconda3\\Lib\\site-packages\\sklearn\\base.py\", line 637, in _validate_params\n",
      "    validate_parameter_constraints(\n",
      "  File \"C:\\Users\\amigo\\anaconda3\\Lib\\site-packages\\sklearn\\utils\\_param_validation.py\", line 95, in validate_parameter_constraints\n",
      "    raise InvalidParameterError(\n",
      "sklearn.utils._param_validation.InvalidParameterError: The 'min_samples_split' parameter of RandomForestClassifier must be an int in the range [2, inf) or a float in the range (0.0, 1.0]. Got 1 instead.\n",
      "\n",
      "  warnings.warn(some_fits_failed_message, FitFailedWarning)\n",
      "C:\\Users\\amigo\\anaconda3\\Lib\\site-packages\\sklearn\\model_selection\\_search.py:976: UserWarning: One or more of the test scores are non-finite: [0.90625  0.90625       nan 0.909375 0.909375      nan 0.90625  0.90625\n",
      "      nan 0.90625  0.90625       nan 0.909375 0.909375      nan 0.90625\n",
      " 0.90625       nan 0.90625  0.90625       nan 0.909375 0.909375      nan\n",
      " 0.90625  0.90625       nan]\n",
      "  warnings.warn(\n"
     ]
    }
   ],
   "source": [
    "# Імпортуємо необхідні бібліотеки\n",
    "from sklearn.datasets import load_iris\n",
    "from sklearn.model_selection import train_test_split, RandomizedSearchCV, GridSearchCV\n",
    "from sklearn.ensemble import RandomForestClassifier\n",
    "\n",
    "# Розділяємо датасет на тренувальні та тестові дані\n",
    "X_train, X_test, y_train, y_test = train_test_split(X, y, test_size=0.2, random_state=42)\n",
    "\n",
    "# Визначаємо параметри, які ми хочемо оптимізувати\n",
    "param_grid = {\n",
    "    'n_estimators': [10, 50, 100, 200],\n",
    "    'max_depth': [None, 10, 20, 30],\n",
    "    'min_samples_split': [2, 5, 10],\n",
    "    'min_samples_leaf': [1, 2, 4]\n",
    "}\n",
    "\n",
    "# Random Search (грубий пошук)\n",
    "rf = RandomForestClassifier(random_state=42)\n",
    "random_search = RandomizedSearchCV(rf, param_distributions=param_grid, n_iter=10, random_state=42, cv=5)\n",
    "random_search.fit(X_train, y_train)\n",
    "\n",
    "# Використовуємо найкращі параметри з Random Search для подальшого Grid Search (деталізований пошук)\n",
    "best_params_random = random_search.best_params_\n",
    "param_grid = {\n",
    "    'n_estimators': [best_params_random['n_estimators']],\n",
    "    'max_depth': [best_params_random['max_depth'], best_params_random['max_depth'] + 1, best_params_random['max_depth'] - 1],\n",
    "    'min_samples_split': [best_params_random['min_samples_split'], best_params_random['min_samples_split'] + 1, best_params_random['min_samples_split'] - 1],\n",
    "    'min_samples_leaf': [best_params_random['min_samples_leaf'], best_params_random['min_samples_leaf'] + 1, best_params_random['min_samples_leaf'] - 1]\n",
    "}\n",
    "\n",
    "grid_search = GridSearchCV(rf, param_grid=param_grid, cv=5)\n",
    "grid_search.fit(X_train, y_train)\n",
    "\n",
    "# Виводимо найкращі параметри для Random Search та Grid Search\n",
    "print(\"Найкращі параметри для Random Search:\")\n",
    "print(random_search.best_params_)\n",
    "\n",
    "print(\"\\nНайкращі параметри для Grid Search:\")\n",
    "print(grid_search.best_params_)\n",
    "\n",
    "from sklearn.metrics import accuracy_score\n",
    "\n",
    "# Використовуємо найкращі параметри для Random Search та Grid Search\n",
    "best_params_random = random_search.best_params_\n",
    "best_params_grid = grid_search.best_params_\n",
    "\n",
    "# Ініціалізуємо моделі з найкращими параметрами\n",
    "rf_random = RandomForestClassifier(random_state=42, **best_params_random)\n",
    "rf_grid = RandomForestClassifier(random_state=42, **best_params_grid)\n",
    "\n",
    "# Тренуємо моделі на тренувальних даних\n",
    "rf_random.fit(X_train, y_train)\n",
    "rf_grid.fit(X_train, y_train)\n",
    "\n",
    "# Робимо прогнози на тестових даних\n",
    "y_pred_random = rf_random.predict(X_test)\n",
    "y_pred_grid = rf_grid.predict(X_test)\n",
    "\n",
    "# Оцінюємо точність моделей\n",
    "accuracy_random = accuracy_score(y_test, y_pred_random)\n",
    "accuracy_grid = accuracy_score(y_test, y_pred_grid)\n",
    "\n",
    "print(\"Точність моделі з найкращими параметрами (Random Search): {:.2f}%\".format(accuracy_random * 100))\n",
    "print(\"Точність моделі з найкращими параметрами (Grid Search): {:.2f}%\".format(accuracy_grid * 100))"
   ]
  },
  {
   "cell_type": "markdown",
   "id": "5c8f0609-3e94-4d81-aa48-034c97e55340",
   "metadata": {},
   "source": [
    "<h3><em>Висновки</em></h3>\n",
    "<p style='font-size:16px'>Модель RandomForestClassifier навчається добре, але є деякі нюанси з оптимальними параметрами. Простий підбір рандомного та сіткового пошуку виводить точність 95%, що є досить добрим результатом. Після крос-валідації ми можемо побачити, що результат точністі зменшився до плюс-мінус 89%. Це не критично, тому що точність лишається доволі високою, просто оцінюється більш об'єктивно. А ось ми можемо побачити, що точність без крос-валідації буде 99.50%. Це показує нам, що модель має нахил до перенавчання (overfitting) або задача класіфікації RandomForestClassifier є дуже простою і легко справляється.</p>\n",
    "<p style='font-size:16px'>Ще ми можемо побачити, що при поєднанні рандомного та сіткового пошуку точність моделі може варіюватись від 89 до 95%, що є досить добрим результатом, але це краще перевіряти на іншому датасеті, де к-сть даних багато (>1000)</p>"
   ]
  },
  {
   "cell_type": "code",
   "execution_count": null,
   "id": "192cc55d-204c-4d15-88e3-30e55cb53799",
   "metadata": {},
   "outputs": [],
   "source": []
  }
 ],
 "metadata": {
  "kernelspec": {
   "display_name": "Python 3 (ipykernel)",
   "language": "python",
   "name": "python3"
  },
  "language_info": {
   "codemirror_mode": {
    "name": "ipython",
    "version": 3
   },
   "file_extension": ".py",
   "mimetype": "text/x-python",
   "name": "python",
   "nbconvert_exporter": "python",
   "pygments_lexer": "ipython3",
   "version": "3.11.4"
  }
 },
 "nbformat": 4,
 "nbformat_minor": 5
}
