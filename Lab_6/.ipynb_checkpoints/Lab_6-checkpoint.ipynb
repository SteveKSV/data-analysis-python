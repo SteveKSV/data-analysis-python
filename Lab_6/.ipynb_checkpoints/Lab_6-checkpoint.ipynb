{
 "cells": [
  {
   "cell_type": "markdown",
   "id": "7c494aa9-f89b-4843-87b6-e8739806d481",
   "metadata": {},
   "source": [
    "<h3>Загрузка датасету</h3>"
   ]
  },
  {
   "cell_type": "code",
   "execution_count": 1,
   "id": "23ea6eb1-1b0b-451a-9176-c288fc3164ed",
   "metadata": {},
   "outputs": [
    {
     "data": {
      "text/html": [
       "<div>\n",
       "<style scoped>\n",
       "    .dataframe tbody tr th:only-of-type {\n",
       "        vertical-align: middle;\n",
       "    }\n",
       "\n",
       "    .dataframe tbody tr th {\n",
       "        vertical-align: top;\n",
       "    }\n",
       "\n",
       "    .dataframe thead th {\n",
       "        text-align: right;\n",
       "    }\n",
       "</style>\n",
       "<table border=\"1\" class=\"dataframe\">\n",
       "  <thead>\n",
       "    <tr style=\"text-align: right;\">\n",
       "      <th></th>\n",
       "      <th>case</th>\n",
       "      <th>site</th>\n",
       "      <th>Pop</th>\n",
       "      <th>sex</th>\n",
       "      <th>age</th>\n",
       "      <th>hdlngth</th>\n",
       "      <th>skullw</th>\n",
       "      <th>totlngth</th>\n",
       "      <th>taill</th>\n",
       "      <th>footlgth</th>\n",
       "      <th>earconch</th>\n",
       "      <th>eye</th>\n",
       "      <th>chest</th>\n",
       "      <th>belly</th>\n",
       "    </tr>\n",
       "  </thead>\n",
       "  <tbody>\n",
       "    <tr>\n",
       "      <th>0</th>\n",
       "      <td>1</td>\n",
       "      <td>1</td>\n",
       "      <td>Vic</td>\n",
       "      <td>m</td>\n",
       "      <td>8.0</td>\n",
       "      <td>94.1</td>\n",
       "      <td>60.4</td>\n",
       "      <td>89.0</td>\n",
       "      <td>36.0</td>\n",
       "      <td>74.5</td>\n",
       "      <td>54.5</td>\n",
       "      <td>15.2</td>\n",
       "      <td>28.0</td>\n",
       "      <td>36.0</td>\n",
       "    </tr>\n",
       "    <tr>\n",
       "      <th>1</th>\n",
       "      <td>2</td>\n",
       "      <td>1</td>\n",
       "      <td>Vic</td>\n",
       "      <td>f</td>\n",
       "      <td>6.0</td>\n",
       "      <td>92.5</td>\n",
       "      <td>57.6</td>\n",
       "      <td>91.5</td>\n",
       "      <td>36.5</td>\n",
       "      <td>72.5</td>\n",
       "      <td>51.2</td>\n",
       "      <td>16.0</td>\n",
       "      <td>28.5</td>\n",
       "      <td>33.0</td>\n",
       "    </tr>\n",
       "    <tr>\n",
       "      <th>2</th>\n",
       "      <td>3</td>\n",
       "      <td>1</td>\n",
       "      <td>Vic</td>\n",
       "      <td>f</td>\n",
       "      <td>6.0</td>\n",
       "      <td>94.0</td>\n",
       "      <td>60.0</td>\n",
       "      <td>95.5</td>\n",
       "      <td>39.0</td>\n",
       "      <td>75.4</td>\n",
       "      <td>51.9</td>\n",
       "      <td>15.5</td>\n",
       "      <td>30.0</td>\n",
       "      <td>34.0</td>\n",
       "    </tr>\n",
       "    <tr>\n",
       "      <th>3</th>\n",
       "      <td>4</td>\n",
       "      <td>1</td>\n",
       "      <td>Vic</td>\n",
       "      <td>f</td>\n",
       "      <td>6.0</td>\n",
       "      <td>93.2</td>\n",
       "      <td>57.1</td>\n",
       "      <td>92.0</td>\n",
       "      <td>38.0</td>\n",
       "      <td>76.1</td>\n",
       "      <td>52.2</td>\n",
       "      <td>15.2</td>\n",
       "      <td>28.0</td>\n",
       "      <td>34.0</td>\n",
       "    </tr>\n",
       "    <tr>\n",
       "      <th>4</th>\n",
       "      <td>5</td>\n",
       "      <td>1</td>\n",
       "      <td>Vic</td>\n",
       "      <td>f</td>\n",
       "      <td>2.0</td>\n",
       "      <td>91.5</td>\n",
       "      <td>56.3</td>\n",
       "      <td>85.5</td>\n",
       "      <td>36.0</td>\n",
       "      <td>71.0</td>\n",
       "      <td>53.2</td>\n",
       "      <td>15.1</td>\n",
       "      <td>28.5</td>\n",
       "      <td>33.0</td>\n",
       "    </tr>\n",
       "    <tr>\n",
       "      <th>...</th>\n",
       "      <td>...</td>\n",
       "      <td>...</td>\n",
       "      <td>...</td>\n",
       "      <td>...</td>\n",
       "      <td>...</td>\n",
       "      <td>...</td>\n",
       "      <td>...</td>\n",
       "      <td>...</td>\n",
       "      <td>...</td>\n",
       "      <td>...</td>\n",
       "      <td>...</td>\n",
       "      <td>...</td>\n",
       "      <td>...</td>\n",
       "      <td>...</td>\n",
       "    </tr>\n",
       "    <tr>\n",
       "      <th>99</th>\n",
       "      <td>100</td>\n",
       "      <td>7</td>\n",
       "      <td>other</td>\n",
       "      <td>m</td>\n",
       "      <td>1.0</td>\n",
       "      <td>89.5</td>\n",
       "      <td>56.0</td>\n",
       "      <td>81.5</td>\n",
       "      <td>36.5</td>\n",
       "      <td>66.0</td>\n",
       "      <td>46.8</td>\n",
       "      <td>14.8</td>\n",
       "      <td>23.0</td>\n",
       "      <td>27.0</td>\n",
       "    </tr>\n",
       "    <tr>\n",
       "      <th>100</th>\n",
       "      <td>101</td>\n",
       "      <td>7</td>\n",
       "      <td>other</td>\n",
       "      <td>m</td>\n",
       "      <td>1.0</td>\n",
       "      <td>88.6</td>\n",
       "      <td>54.7</td>\n",
       "      <td>82.5</td>\n",
       "      <td>39.0</td>\n",
       "      <td>64.4</td>\n",
       "      <td>48.0</td>\n",
       "      <td>14.0</td>\n",
       "      <td>25.0</td>\n",
       "      <td>33.0</td>\n",
       "    </tr>\n",
       "    <tr>\n",
       "      <th>101</th>\n",
       "      <td>102</td>\n",
       "      <td>7</td>\n",
       "      <td>other</td>\n",
       "      <td>f</td>\n",
       "      <td>6.0</td>\n",
       "      <td>92.4</td>\n",
       "      <td>55.0</td>\n",
       "      <td>89.0</td>\n",
       "      <td>38.0</td>\n",
       "      <td>63.5</td>\n",
       "      <td>45.4</td>\n",
       "      <td>13.0</td>\n",
       "      <td>25.0</td>\n",
       "      <td>30.0</td>\n",
       "    </tr>\n",
       "    <tr>\n",
       "      <th>102</th>\n",
       "      <td>103</td>\n",
       "      <td>7</td>\n",
       "      <td>other</td>\n",
       "      <td>m</td>\n",
       "      <td>4.0</td>\n",
       "      <td>91.5</td>\n",
       "      <td>55.2</td>\n",
       "      <td>82.5</td>\n",
       "      <td>36.5</td>\n",
       "      <td>62.9</td>\n",
       "      <td>45.9</td>\n",
       "      <td>15.4</td>\n",
       "      <td>25.0</td>\n",
       "      <td>29.0</td>\n",
       "    </tr>\n",
       "    <tr>\n",
       "      <th>103</th>\n",
       "      <td>104</td>\n",
       "      <td>7</td>\n",
       "      <td>other</td>\n",
       "      <td>f</td>\n",
       "      <td>3.0</td>\n",
       "      <td>93.6</td>\n",
       "      <td>59.9</td>\n",
       "      <td>89.0</td>\n",
       "      <td>40.0</td>\n",
       "      <td>67.6</td>\n",
       "      <td>46.0</td>\n",
       "      <td>14.8</td>\n",
       "      <td>28.5</td>\n",
       "      <td>33.5</td>\n",
       "    </tr>\n",
       "  </tbody>\n",
       "</table>\n",
       "<p>104 rows × 14 columns</p>\n",
       "</div>"
      ],
      "text/plain": [
       "     case  site    Pop sex  age  hdlngth  skullw  totlngth  taill  footlgth  \\\n",
       "0       1     1    Vic   m  8.0     94.1    60.4      89.0   36.0      74.5   \n",
       "1       2     1    Vic   f  6.0     92.5    57.6      91.5   36.5      72.5   \n",
       "2       3     1    Vic   f  6.0     94.0    60.0      95.5   39.0      75.4   \n",
       "3       4     1    Vic   f  6.0     93.2    57.1      92.0   38.0      76.1   \n",
       "4       5     1    Vic   f  2.0     91.5    56.3      85.5   36.0      71.0   \n",
       "..    ...   ...    ...  ..  ...      ...     ...       ...    ...       ...   \n",
       "99    100     7  other   m  1.0     89.5    56.0      81.5   36.5      66.0   \n",
       "100   101     7  other   m  1.0     88.6    54.7      82.5   39.0      64.4   \n",
       "101   102     7  other   f  6.0     92.4    55.0      89.0   38.0      63.5   \n",
       "102   103     7  other   m  4.0     91.5    55.2      82.5   36.5      62.9   \n",
       "103   104     7  other   f  3.0     93.6    59.9      89.0   40.0      67.6   \n",
       "\n",
       "     earconch   eye  chest  belly  \n",
       "0        54.5  15.2   28.0   36.0  \n",
       "1        51.2  16.0   28.5   33.0  \n",
       "2        51.9  15.5   30.0   34.0  \n",
       "3        52.2  15.2   28.0   34.0  \n",
       "4        53.2  15.1   28.5   33.0  \n",
       "..        ...   ...    ...    ...  \n",
       "99       46.8  14.8   23.0   27.0  \n",
       "100      48.0  14.0   25.0   33.0  \n",
       "101      45.4  13.0   25.0   30.0  \n",
       "102      45.9  15.4   25.0   29.0  \n",
       "103      46.0  14.8   28.5   33.5  \n",
       "\n",
       "[104 rows x 14 columns]"
      ]
     },
     "execution_count": 1,
     "metadata": {},
     "output_type": "execute_result"
    }
   ],
   "source": [
    "import pandas as pd\n",
    "from sklearn.model_selection import train_test_split\n",
    "from sklearn.linear_model import LinearRegression\n",
    "from sklearn.metrics import mean_squared_error, r2_score\n",
    "from sklearn.preprocessing import StandardScaler\n",
    "import matplotlib.pyplot as plt\n",
    "import numpy as np\n",
    "\n",
    "dataset = pd.read_csv('possum.csv')\n",
    "dataset"
   ]
  },
  {
   "cell_type": "markdown",
   "id": "7a93d683-4152-44d8-b26b-039729085ac5",
   "metadata": {},
   "source": [
    "<h3>Видалення NaN</h3>"
   ]
  },
  {
   "cell_type": "code",
   "execution_count": 2,
   "id": "09d0daa6-47e3-42d1-896b-b518e2387cd4",
   "metadata": {
    "tags": []
   },
   "outputs": [],
   "source": [
    "# Видалення рядків з NaN значеннями\n",
    "dataset.dropna(inplace=True)"
   ]
  },
  {
   "cell_type": "markdown",
   "id": "1682f973-8330-4c4c-b83c-46674006073e",
   "metadata": {},
   "source": [
    "<h3>Розбиття ознак (багато Х)</h3>"
   ]
  },
  {
   "cell_type": "code",
   "execution_count": 3,
   "id": "2f9d9790-8cb0-4bc6-87a2-c72de3d9ad7e",
   "metadata": {
    "tags": []
   },
   "outputs": [],
   "source": [
    "# Одержання ознак (X) та цільової змінної (y)\n",
    "X = dataset.drop(['totlngth'], axis=1).select_dtypes(include=['float64'])\n",
    "y = dataset['totlngth']"
   ]
  },
  {
   "cell_type": "markdown",
   "id": "406abf82-85ee-408e-bb67-c1e6cd49308d",
   "metadata": {},
   "source": [
    "<h3>Розбиття на вибірки</h3>"
   ]
  },
  {
   "cell_type": "code",
   "execution_count": 4,
   "id": "71dec03a-7dac-4299-81e5-0d31a4e5a34f",
   "metadata": {
    "tags": []
   },
   "outputs": [],
   "source": [
    "from sklearn.model_selection import train_test_split\n",
    "\n",
    "# Розбиття на тестову та тренувальну вибірки\n",
    "X_train, X_test, y_train, y_test = train_test_split(X, y, test_size = 0.25, random_state = 0)"
   ]
  },
  {
   "cell_type": "markdown",
   "id": "30e72743-b10b-4e60-9cab-4ba644f6d47b",
   "metadata": {},
   "source": [
    "<h3>Побудова лінійної регресійної моделі</h3>"
   ]
  },
  {
   "cell_type": "code",
   "execution_count": 5,
   "id": "1f23e94c-f878-4f76-bc18-187b20472e8e",
   "metadata": {
    "tags": []
   },
   "outputs": [
    {
     "name": "stdout",
     "output_type": "stream",
     "text": [
      "0.6919580738844984\n"
     ]
    }
   ],
   "source": [
    "from sklearn.linear_model import LinearRegression\n",
    "\n",
    "# Створення та навчання моделі з однією функцією (години вивчення)\n",
    "regression = LinearRegression()\n",
    "regression.fit(X_train, y_train)\n",
    "print(regression.score(X_test, y_test))"
   ]
  },
  {
   "cell_type": "markdown",
   "id": "46e743e0-1530-4c95-9368-12d241ad37a6",
   "metadata": {},
   "source": [
    "<h3>Прогноз</h3>"
   ]
  },
  {
   "cell_type": "code",
   "execution_count": 6,
   "id": "defadd43-f996-4ab6-87d3-a8e50b2938d2",
   "metadata": {
    "tags": []
   },
   "outputs": [
    {
     "data": {
      "text/plain": [
       "array([84.10022564, 88.95675514, 92.2787109 , 96.3416902 , 81.33387871,\n",
       "       84.31649164, 88.82677239, 84.42248524, 89.38515176, 83.8447732 ,\n",
       "       92.16316739, 85.5061786 , 81.14284507, 88.9999186 , 89.33320562,\n",
       "       86.62629028, 87.3981292 , 88.34280827, 86.9077075 , 88.69894888,\n",
       "       85.48127701, 83.81960404, 90.97943022, 87.77727151, 88.73229088,\n",
       "       92.18451124])"
      ]
     },
     "execution_count": 6,
     "metadata": {},
     "output_type": "execute_result"
    }
   ],
   "source": [
    "y_pred = regression.predict(X_test) \n",
    "y_pred"
   ]
  },
  {
   "cell_type": "markdown",
   "id": "2cb245bd-8080-4a55-b8e6-299f331f9419",
   "metadata": {},
   "source": [
    "<h3>Оцінка</h3>"
   ]
  },
  {
   "cell_type": "code",
   "execution_count": 7,
   "id": "f5f53865-61e3-4bc8-98bf-197918d254a5",
   "metadata": {},
   "outputs": [
    {
     "name": "stdout",
     "output_type": "stream",
     "text": [
      "Mean Squared Error: 5.574374086051672\n",
      "R-squared: 0.6919580738844984\n"
     ]
    }
   ],
   "source": [
    "from sklearn.metrics import r2_score\n",
    "\n",
    "# Оцінка моделі\n",
    "mse = mean_squared_error(y_test, y_pred)\n",
    "\n",
    "# Calculate R-squared\n",
    "r2 = r2_score(y_test, y_pred)\n",
    "\n",
    "print('Mean Squared Error:', mse)\n",
    "print('R-squared:', r2)"
   ]
  },
  {
   "cell_type": "markdown",
   "id": "66a09793-e2d2-4ea9-8d53-8a8272c8f755",
   "metadata": {},
   "source": [
    "<h3>Знаходження оптимальних параметрів з допомогою Ridge</h3>"
   ]
  },
  {
   "cell_type": "code",
   "execution_count": 8,
   "id": "0f88c3a0-31f7-4518-b4e2-cd809e8efd31",
   "metadata": {
    "tags": []
   },
   "outputs": [
    {
     "name": "stdout",
     "output_type": "stream",
     "text": [
      "Optimal alpha for Ridge: 10.0\n",
      "Mean Squared Error (Ridge): 5.649680795891407\n",
      "R-squared (Ridge): 0.687796597889104\n"
     ]
    }
   ],
   "source": [
    "from sklearn.linear_model import RidgeCV, LassoCV\n",
    "\n",
    "# Ridge Regression\n",
    "ridge = RidgeCV(alphas=[0.1, 0.2, 0.5, 0.8, 1.0, 3.0, 5.0, 7.0, 10.0])\n",
    "ridge.fit(X_train, y_train)\n",
    "ridge_alpha = ridge.alpha_\n",
    "\n",
    "print(\"Optimal alpha for Ridge:\", ridge_alpha)\n",
    "\n",
    "# Оцінка моделі\n",
    "y_pred_ridge = ridge.predict(X_test)\n",
    "mse_ridge = mean_squared_error(y_test, y_pred_ridge)\n",
    "r2_ridge = r2_score(y_test, y_pred_ridge)\n",
    "\n",
    "print('Mean Squared Error (Ridge):', mse_ridge)\n",
    "print('R-squared (Ridge):', r2_ridge)"
   ]
  },
  {
   "cell_type": "markdown",
   "id": "8650980e-61c7-44fe-b589-3ad29ec84bf5",
   "metadata": {},
   "source": [
    "<h3>Знаходження оптимальних параметрів з допомогою Lasso</h3>"
   ]
  },
  {
   "cell_type": "code",
   "execution_count": 9,
   "id": "2a695ff7-1152-4b52-b672-31612c259429",
   "metadata": {
    "tags": []
   },
   "outputs": [
    {
     "name": "stdout",
     "output_type": "stream",
     "text": [
      "Optimal alpha for Lasso: 0.5\n",
      "Mean Squared Error (Lasso): 5.915788377324484\n",
      "R-squared (Lasso): 0.6730913967897203\n"
     ]
    }
   ],
   "source": [
    "# Lasso Regression\n",
    "lasso = LassoCV(alphas=[0.1, 0.2, 0.5, 0.8, 1.0, 3.0, 5.0, 7.0, 10.0])\n",
    "lasso.fit(X_train, y_train)\n",
    "lasso_alpha = lasso.alpha_\n",
    "print(\"Optimal alpha for Lasso:\", lasso_alpha)\n",
    "\n",
    "# Оцінка моделі\n",
    "y_pred_lasso = lasso.predict(X_test)\n",
    "mse_lasso = mean_squared_error(y_test, y_pred_lasso)\n",
    "r2_lasso = r2_score(y_test, y_pred_lasso)\n",
    "\n",
    "print('Mean Squared Error (Lasso):', mse_lasso)\n",
    "print('R-squared (Lasso):', r2_lasso)"
   ]
  },
  {
   "cell_type": "markdown",
   "id": "317b24ab-1032-4b06-ae9d-15335a6d48e4",
   "metadata": {},
   "source": [
    "<h3>Новий датасет (для перевірки алгоритму регресії)</h3>"
   ]
  },
  {
   "cell_type": "code",
   "execution_count": 10,
   "id": "d3521ddb-58ab-4ca8-8d6b-a955c09f6c24",
   "metadata": {
    "tags": []
   },
   "outputs": [
    {
     "name": "stdout",
     "output_type": "stream",
     "text": [
      "0.8313408388278937\n"
     ]
    }
   ],
   "source": [
    "import pandas as pd\n",
    "from sklearn import linear_model\n",
    "import statsmodels.api as sm\n",
    "import numpy as np\n",
    "data = {'year': [2017,2017,2017,2017,2017,2017,2017,2017,2017,2017,2017,2017,2016,2016,2016,2016,2016,2016,2016,2016,2016,2016,2016,2016],\n",
    "        'month': [12,11,10,9,8,7,6,5,4,3,2,1,12,11,10,9,8,7,6,5,4,3,2,1],\n",
    "        'interest_rate': [2.75,2.5,2.5,2.5,2.5,2.5,2.5,2.25,2.25,2.25,2,2,2,1.75,1.75,1.75,1.75,1.75,1.75,1.75,1.75,1.75,1.75,1.75],\n",
    "        'unemployment_rate': [5.3,5.3,5.3,5.3,5.4,5.6,5.5,5.5,5.5,5.6,5.7,5.9,6,5.9,5.8,6.1,6.2,6.1,6.1,6.1,5.9,6.2,6.2,6.1],\n",
    "        'index_price': [1464,1394,1357,1293,1256,1254,1234,1195,1159,1167,1130,1075,1047,965,943,958,971,949,884,866,876,822,704,719]        \n",
    "        }\n",
    "\n",
    "df = pd.DataFrame(data)\n",
    "\n",
    "x = df[['interest_rate','unemployment_rate']]\n",
    "y = df['index_price']\n",
    "\n",
    "from sklearn.model_selection import train_test_split\n",
    "\n",
    "# Розбиття на тестову та тренувальну вибірки\n",
    "X_train, X_test, y_train, y_test = train_test_split(x, y, test_size = 0.25, random_state = 0)\n",
    "# with sklearn\n",
    "regr = linear_model.LinearRegression()\n",
    "regr.fit(X_train,y_train)\n",
    "\n",
    "print(regr.score(X_test, y_test))"
   ]
  },
  {
   "cell_type": "code",
   "execution_count": 11,
   "id": "a8753272-1f9b-4a01-8920-0cb209205540",
   "metadata": {
    "tags": []
   },
   "outputs": [],
   "source": [
    "y_pred = regr.predict(X_test) "
   ]
  },
  {
   "cell_type": "code",
   "execution_count": 12,
   "id": "cdcd03b7-c04b-445f-8e7a-c9f0e086f1c6",
   "metadata": {
    "tags": []
   },
   "outputs": [
    {
     "name": "stdout",
     "output_type": "stream",
     "text": [
      "Mean Squared Error: 7913.525322008823\n",
      "R-squared: 0.8313408388278937\n"
     ]
    }
   ],
   "source": [
    "from sklearn.metrics import r2_score\n",
    "from sklearn.metrics import mean_absolute_error,mean_squared_error\n",
    "# Оцінка моделі\n",
    "mse = mean_squared_error(y_test, y_pred)\n",
    "\n",
    "# Calculate R-squared\n",
    "r2 = r2_score(y_test, y_pred)\n",
    "\n",
    "print('Mean Squared Error:', mse)\n",
    "print('R-squared:', r2)"
   ]
  },
  {
   "cell_type": "code",
   "execution_count": 13,
   "id": "62b23f65-b680-4971-9015-195ef5bdd861",
   "metadata": {
    "tags": []
   },
   "outputs": [
    {
     "name": "stdout",
     "output_type": "stream",
     "text": [
      "Optimal alpha for Ridge: 0.1\n",
      "Mean Squared Error (Ridge): 7991.088645672259\n",
      "R-squared (Ridge): 0.8296877493924668\n"
     ]
    }
   ],
   "source": [
    "from sklearn.linear_model import RidgeCV, LassoCV\n",
    "\n",
    "# Ridge Regression\n",
    "ridge = RidgeCV(alphas=[0.1, 0.2, 0.5, 0.8, 1.0, 3.0, 5.0, 7.0, 10.0])\n",
    "ridge.fit(X_train, y_train)\n",
    "ridge_alpha = ridge.alpha_\n",
    "print(\"Optimal alpha for Ridge:\", ridge_alpha)\n",
    "\n",
    "# Оцінка моделі\n",
    "y_pred_ridge = ridge.predict(X_test)\n",
    "mse_ridge = mean_squared_error(y_test, y_pred_ridge)\n",
    "r2_ridge = r2_score(y_test, y_pred_ridge)\n",
    "\n",
    "print('Mean Squared Error (Ridge):', mse_ridge)\n",
    "print('R-squared (Ridge):', r2_ridge)"
   ]
  },
  {
   "cell_type": "code",
   "execution_count": 14,
   "id": "904f7812-2fe5-4c1b-8b83-def75b44a69f",
   "metadata": {
    "tags": []
   },
   "outputs": [
    {
     "name": "stdout",
     "output_type": "stream",
     "text": [
      "Optimal alpha for Lasso: 0.1\n",
      "Mean Squared Error (Lasso): 7950.110938819203\n",
      "R-squared (Lasso): 0.8305610979170961\n"
     ]
    }
   ],
   "source": [
    "# Lasso Regression\n",
    "lasso = LassoCV(alphas=[0.1, 0.2, 0.5, 0.8, 1.0, 3.0, 5.0, 7.0, 10.0])\n",
    "lasso.fit(X_train, y_train)\n",
    "lasso_alpha = lasso.alpha_\n",
    "\n",
    "print(\"Optimal alpha for Lasso:\", lasso_alpha)\n",
    "\n",
    "# Оцінка моделі\n",
    "y_pred_lasso = lasso.predict(X_test)\n",
    "mse_lasso = mean_squared_error(y_test, y_pred_lasso)\n",
    "r2_lasso = r2_score(y_test, y_pred_lasso)\n",
    "\n",
    "print('Mean Squared Error (Lasso):', mse_lasso)\n",
    "print('R-squared (Lasso):', r2_lasso)"
   ]
  },
  {
   "cell_type": "code",
   "execution_count": 17,
   "id": "e82c0bd3-f92e-4e4a-ba82-9ccbd85ccee9",
   "metadata": {
    "tags": []
   },
   "outputs": [
    {
     "data": {
      "image/png": "[encoded data removed]",
      "text/plain": [
       "<Figure size 640x480 with 1 Axes>"
      ]
     },
     "metadata": {},
     "output_type": "display_data"
    }
   ],
   "source": [
    "# Sort the predicted values based on actual values for better visualization\n",
    "sorted_indices = np.argsort(y_test)\n",
    "y_test_sorted = y_test.values[sorted_indices]\n",
    "y_pred_sorted = y_pred[sorted_indices]\n",
    "y_pred_ridge_sorted = y_pred_ridge[sorted_indices]\n",
    "y_pred_lasso_sorted = y_pred_lasso[sorted_indices]\n",
    "\n",
    "# Plot all model predictions on one plot\n",
    "plt.plot(y_test_sorted, y_pred_sorted, label='Initial Model', color='blue', alpha=0.7)\n",
    "plt.plot(y_test_sorted, y_pred_ridge_sorted, label='Optimal Ridge Model', color='red')\n",
    "plt.plot(y_test_sorted, y_pred_lasso_sorted, label='Optimal Lasso Model', color='green')\n",
    "\n",
    "plt.xlabel(\"Actual Values\")\n",
    "plt.ylabel(\"Predicted Values\")\n",
    "plt.title(\"Model Predictions\")\n",
    "plt.legend()\n",
    "plt.show()\n"
   ]
  },
  {
   "cell_type": "code",
   "execution_count": null,
   "id": "5fec901e-0466-4288-be44-df5f3dca0e10",
   "metadata": {},
   "outputs": [],
   "source": []
  }
 ],
 "metadata": {
  "kernelspec": {
   "display_name": "Python 3 (ipykernel)",
   "language": "python",
   "name": "python3"
  },
  "language_info": {
   "codemirror_mode": {
    "name": "ipython",
    "version": 3
   },
   "file_extension": ".py",
   "mimetype": "text/x-python",
   "name": "python",
   "nbconvert_exporter": "python",
   "pygments_lexer": "ipython3",
   "version": "3.11.4"
  }
 },
 "nbformat": 4,
 "nbformat_minor": 5
}
