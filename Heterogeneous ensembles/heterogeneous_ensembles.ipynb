{
 "cells": [
  {
   "cell_type": "code",
   "execution_count": 1,
   "id": "3400802c-c5bb-459e-ba56-c1091f761ac6",
   "metadata": {
    "tags": []
   },
   "outputs": [],
   "source": [
    "import pandas as pd\n",
    "import numpy as np\n",
    "import matplotlib.pyplot as plt\n",
    "import seaborn as sns"
   ]
  },
  {
   "cell_type": "code",
   "execution_count": 2,
   "id": "d6e0ee32-c80c-40c0-a4ce-273ef010abf5",
   "metadata": {
    "tags": []
   },
   "outputs": [
    {
     "data": {
      "text/html": [
       "<div>\n",
       "<style scoped>\n",
       "    .dataframe tbody tr th:only-of-type {\n",
       "        vertical-align: middle;\n",
       "    }\n",
       "\n",
       "    .dataframe tbody tr th {\n",
       "        vertical-align: top;\n",
       "    }\n",
       "\n",
       "    .dataframe thead th {\n",
       "        text-align: right;\n",
       "    }\n",
       "</style>\n",
       "<table border=\"1\" class=\"dataframe\">\n",
       "  <thead>\n",
       "    <tr style=\"text-align: right;\">\n",
       "      <th></th>\n",
       "      <th>Alcohol</th>\n",
       "      <th>Malic_Acid</th>\n",
       "      <th>Ash</th>\n",
       "      <th>Ash_Alcanity</th>\n",
       "      <th>Magnesium</th>\n",
       "      <th>Total_Phenols</th>\n",
       "      <th>Flavanoids</th>\n",
       "      <th>Nonflavanoid_Phenols</th>\n",
       "      <th>Proanthocyanins</th>\n",
       "      <th>Color_Intensity</th>\n",
       "      <th>Hue</th>\n",
       "      <th>OD280</th>\n",
       "      <th>Proline</th>\n",
       "      <th>Customer_Segment</th>\n",
       "    </tr>\n",
       "  </thead>\n",
       "  <tbody>\n",
       "    <tr>\n",
       "      <th>0</th>\n",
       "      <td>14.23</td>\n",
       "      <td>1.71</td>\n",
       "      <td>2.43</td>\n",
       "      <td>15.6</td>\n",
       "      <td>127</td>\n",
       "      <td>2.80</td>\n",
       "      <td>3.06</td>\n",
       "      <td>0.28</td>\n",
       "      <td>2.29</td>\n",
       "      <td>5.64</td>\n",
       "      <td>1.04</td>\n",
       "      <td>3.92</td>\n",
       "      <td>1065</td>\n",
       "      <td>1</td>\n",
       "    </tr>\n",
       "    <tr>\n",
       "      <th>1</th>\n",
       "      <td>13.20</td>\n",
       "      <td>1.78</td>\n",
       "      <td>2.14</td>\n",
       "      <td>11.2</td>\n",
       "      <td>100</td>\n",
       "      <td>2.65</td>\n",
       "      <td>2.76</td>\n",
       "      <td>0.26</td>\n",
       "      <td>1.28</td>\n",
       "      <td>4.38</td>\n",
       "      <td>1.05</td>\n",
       "      <td>3.40</td>\n",
       "      <td>1050</td>\n",
       "      <td>1</td>\n",
       "    </tr>\n",
       "    <tr>\n",
       "      <th>2</th>\n",
       "      <td>13.16</td>\n",
       "      <td>2.36</td>\n",
       "      <td>2.67</td>\n",
       "      <td>18.6</td>\n",
       "      <td>101</td>\n",
       "      <td>2.80</td>\n",
       "      <td>3.24</td>\n",
       "      <td>0.30</td>\n",
       "      <td>2.81</td>\n",
       "      <td>5.68</td>\n",
       "      <td>1.03</td>\n",
       "      <td>3.17</td>\n",
       "      <td>1185</td>\n",
       "      <td>1</td>\n",
       "    </tr>\n",
       "    <tr>\n",
       "      <th>3</th>\n",
       "      <td>14.37</td>\n",
       "      <td>1.95</td>\n",
       "      <td>2.50</td>\n",
       "      <td>16.8</td>\n",
       "      <td>113</td>\n",
       "      <td>3.85</td>\n",
       "      <td>3.49</td>\n",
       "      <td>0.24</td>\n",
       "      <td>2.18</td>\n",
       "      <td>7.80</td>\n",
       "      <td>0.86</td>\n",
       "      <td>3.45</td>\n",
       "      <td>1480</td>\n",
       "      <td>1</td>\n",
       "    </tr>\n",
       "    <tr>\n",
       "      <th>4</th>\n",
       "      <td>13.24</td>\n",
       "      <td>2.59</td>\n",
       "      <td>2.87</td>\n",
       "      <td>21.0</td>\n",
       "      <td>118</td>\n",
       "      <td>2.80</td>\n",
       "      <td>2.69</td>\n",
       "      <td>0.39</td>\n",
       "      <td>1.82</td>\n",
       "      <td>4.32</td>\n",
       "      <td>1.04</td>\n",
       "      <td>2.93</td>\n",
       "      <td>735</td>\n",
       "      <td>1</td>\n",
       "    </tr>\n",
       "  </tbody>\n",
       "</table>\n",
       "</div>"
      ],
      "text/plain": [
       "   Alcohol  Malic_Acid   Ash  Ash_Alcanity  Magnesium  Total_Phenols  \\\n",
       "0    14.23        1.71  2.43          15.6        127           2.80   \n",
       "1    13.20        1.78  2.14          11.2        100           2.65   \n",
       "2    13.16        2.36  2.67          18.6        101           2.80   \n",
       "3    14.37        1.95  2.50          16.8        113           3.85   \n",
       "4    13.24        2.59  2.87          21.0        118           2.80   \n",
       "\n",
       "   Flavanoids  Nonflavanoid_Phenols  Proanthocyanins  Color_Intensity   Hue  \\\n",
       "0        3.06                  0.28             2.29             5.64  1.04   \n",
       "1        2.76                  0.26             1.28             4.38  1.05   \n",
       "2        3.24                  0.30             2.81             5.68  1.03   \n",
       "3        3.49                  0.24             2.18             7.80  0.86   \n",
       "4        2.69                  0.39             1.82             4.32  1.04   \n",
       "\n",
       "   OD280  Proline  Customer_Segment  \n",
       "0   3.92     1065                 1  \n",
       "1   3.40     1050                 1  \n",
       "2   3.17     1185                 1  \n",
       "3   3.45     1480                 1  \n",
       "4   2.93      735                 1  "
      ]
     },
     "execution_count": 2,
     "metadata": {},
     "output_type": "execute_result"
    }
   ],
   "source": [
    "df = pd.read_csv('Wine.csv')\n",
    "df.head()"
   ]
  },
  {
   "cell_type": "code",
   "execution_count": 3,
   "id": "7f14b2a5-3c6a-4389-be41-21425abcff3c",
   "metadata": {
    "tags": []
   },
   "outputs": [],
   "source": [
    "from sklearn.model_selection import train_test_split\n",
    "from sklearn.ensemble import RandomForestClassifier, GradientBoostingClassifier, AdaBoostClassifier\n",
    "from sklearn.svm import SVC\n",
    "from sklearn.ensemble import VotingClassifier\n",
    "from sklearn.metrics import accuracy_score"
   ]
  },
  {
   "cell_type": "code",
   "execution_count": 4,
   "id": "67409164-566f-48b9-90e5-93f47950c53c",
   "metadata": {
    "tags": []
   },
   "outputs": [
    {
     "name": "stdout",
     "output_type": "stream",
     "text": [
      "[0 1 2]\n"
     ]
    }
   ],
   "source": [
    "df['Customer_Segment'] = df['Customer_Segment'] - 1\n",
    "print(df['Customer_Segment'].unique())"
   ]
  },
  {
   "cell_type": "code",
   "execution_count": 5,
   "id": "bbcfb599-bc06-4b9d-8d25-7313fd4d1ff0",
   "metadata": {
    "tags": []
   },
   "outputs": [],
   "source": [
    "# X - ознаки\n",
    "X = df[['Alcohol', 'Malic_Acid', 'Ash', 'Ash_Alcanity', 'Magnesium', 'Total_Phenols', 'Flavanoids',\n",
    "        'Nonflavanoid_Phenols', 'Proanthocyanins', 'Color_Intensity', 'Hue', 'OD280', 'Proline']]\n",
    "\n",
    "# y - цільова змінна\n",
    "y = df['Customer_Segment']\n",
    "\n",
    "\n",
    "X_train, X_test, y_train, y_test = train_test_split(X, y, test_size = 0.2, random_state = 0)"
   ]
  },
  {
   "cell_type": "code",
   "execution_count": 11,
   "id": "9b72fde3-c928-4714-ab90-75f49c5d3c1b",
   "metadata": {
    "tags": []
   },
   "outputs": [
    {
     "name": "stdout",
     "output_type": "stream",
     "text": [
      "Точність RandomForestClassifier: 0.9722222222222222\n",
      "Точність GradientBoostingClassifier: 0.9444444444444444\n",
      "Точність AdaBoostClassifier: 0.8333333333333334\n",
      "Точність SVC: 0.7777777777777778\n",
      "Точність паралельного гетерогенного ансамблю: 0.9722222222222222\n"
     ]
    }
   ],
   "source": [
    "# Створіть одиночні моделі\n",
    "model_rf = RandomForestClassifier(n_estimators=100, random_state=42)\n",
    "model_gb = GradientBoostingClassifier(n_estimators=100, random_state=42)\n",
    "model_ada = AdaBoostClassifier(n_estimators=100, random_state=42)\n",
    "model_svc = SVC(probability=True, random_state=42)\n",
    "\n",
    "# Тренування одиночних моделей\n",
    "model_rf.fit(X_train, y_train)\n",
    "model_gb.fit(X_train, y_train)\n",
    "model_ada.fit(X_train, y_train)\n",
    "model_svc.fit(X_train, y_train)\n",
    "\n",
    "# Оцінка точності одиночних моделей на тестовому наборі\n",
    "y_pred_rf = model_rf.predict(X_test)\n",
    "accuracy_rf = accuracy_score(y_test, y_pred_rf)\n",
    "print(f\"Точність RandomForestClassifier: {accuracy_rf}\")\n",
    "\n",
    "# Оцінка точності одиночних моделей на тестовому наборі\n",
    "y_pred_gb = model_gb.predict(X_test)\n",
    "accuracy_gb = accuracy_score(y_test, y_pred_gb)\n",
    "print(f\"Точність GradientBoostingClassifier: {accuracy_gb}\")\n",
    "\n",
    "# Оцінка точності одиночних моделей на тестовому наборі\n",
    "y_pred_ada = model_ada.predict(X_test)\n",
    "accuracy_ada = accuracy_score(y_test, y_pred_ada)\n",
    "print(f\"Точність AdaBoostClassifier: {accuracy_ada}\")\n",
    "\n",
    "# Оцінка точності одиночних моделей на тестовому наборі\n",
    "y_pred_svc = model_svc.predict(X_test)\n",
    "accuracy_svc = accuracy_score(y_test, y_pred_svc)\n",
    "print(f\"Точність SVC: {accuracy_svc}\")\n",
    "\n",
    "# Створіть паралельний гетерогенний ансамбль\n",
    "ensemble_parallel = VotingClassifier(estimators=[\n",
    "    ('rf', model_rf),\n",
    "    ('gb', model_gb),\n",
    "    ('ada', model_ada),\n",
    "    ('svc', model_svc)\n",
    "], voting='hard')\n",
    "\n",
    "# Тренуйте ансамбль\n",
    "ensemble_parallel.fit(X_train, y_train)\n",
    "\n",
    "# Оцінка точності на тестовому наборі\n",
    "y_pred_ensemble_parallel = ensemble_parallel.predict(X_test)\n",
    "accuracy_ensemble_parallel = accuracy_score(y_test, y_pred_ensemble_parallel)\n",
    "\n",
    "print(f\"Точність паралельного гетерогенного ансамблю: {accuracy_ensemble_parallel}\")"
   ]
  },
  {
   "cell_type": "code",
   "execution_count": 16,
   "id": "607884bf-ec73-4617-9717-2cce0f1af3ee",
   "metadata": {
    "tags": []
   },
   "outputs": [
    {
     "data": {
      "text/html": [
       "<style>#sk-container-id-2 {color: black;}#sk-container-id-2 pre{padding: 0;}#sk-container-id-2 div.sk-toggleable {background-color: white;}#sk-container-id-2 label.sk-toggleable__label {cursor: pointer;display: block;width: 100%;margin-bottom: 0;padding: 0.3em;box-sizing: border-box;text-align: center;}#sk-container-id-2 label.sk-toggleable__label-arrow:before {content: \"▸\";float: left;margin-right: 0.25em;color: #696969;}#sk-container-id-2 label.sk-toggleable__label-arrow:hover:before {color: black;}#sk-container-id-2 div.sk-estimator:hover label.sk-toggleable__label-arrow:before {color: black;}#sk-container-id-2 div.sk-toggleable__content {max-height: 0;max-width: 0;overflow: hidden;text-align: left;background-color: #f0f8ff;}#sk-container-id-2 div.sk-toggleable__content pre {margin: 0.2em;color: black;border-radius: 0.25em;background-color: #f0f8ff;}#sk-container-id-2 input.sk-toggleable__control:checked~div.sk-toggleable__content {max-height: 200px;max-width: 100%;overflow: auto;}#sk-container-id-2 input.sk-toggleable__control:checked~label.sk-toggleable__label-arrow:before {content: \"▾\";}#sk-container-id-2 div.sk-estimator input.sk-toggleable__control:checked~label.sk-toggleable__label {background-color: #d4ebff;}#sk-container-id-2 div.sk-label input.sk-toggleable__control:checked~label.sk-toggleable__label {background-color: #d4ebff;}#sk-container-id-2 input.sk-hidden--visually {border: 0;clip: rect(1px 1px 1px 1px);clip: rect(1px, 1px, 1px, 1px);height: 1px;margin: -1px;overflow: hidden;padding: 0;position: absolute;width: 1px;}#sk-container-id-2 div.sk-estimator {font-family: monospace;background-color: #f0f8ff;border: 1px dotted black;border-radius: 0.25em;box-sizing: border-box;margin-bottom: 0.5em;}#sk-container-id-2 div.sk-estimator:hover {background-color: #d4ebff;}#sk-container-id-2 div.sk-parallel-item::after {content: \"\";width: 100%;border-bottom: 1px solid gray;flex-grow: 1;}#sk-container-id-2 div.sk-label:hover label.sk-toggleable__label {background-color: #d4ebff;}#sk-container-id-2 div.sk-serial::before {content: \"\";position: absolute;border-left: 1px solid gray;box-sizing: border-box;top: 0;bottom: 0;left: 50%;z-index: 0;}#sk-container-id-2 div.sk-serial {display: flex;flex-direction: column;align-items: center;background-color: white;padding-right: 0.2em;padding-left: 0.2em;position: relative;}#sk-container-id-2 div.sk-item {position: relative;z-index: 1;}#sk-container-id-2 div.sk-parallel {display: flex;align-items: stretch;justify-content: center;background-color: white;position: relative;}#sk-container-id-2 div.sk-item::before, #sk-container-id-2 div.sk-parallel-item::before {content: \"\";position: absolute;border-left: 1px solid gray;box-sizing: border-box;top: 0;bottom: 0;left: 50%;z-index: -1;}#sk-container-id-2 div.sk-parallel-item {display: flex;flex-direction: column;z-index: 1;position: relative;background-color: white;}#sk-container-id-2 div.sk-parallel-item:first-child::after {align-self: flex-end;width: 50%;}#sk-container-id-2 div.sk-parallel-item:last-child::after {align-self: flex-start;width: 50%;}#sk-container-id-2 div.sk-parallel-item:only-child::after {width: 0;}#sk-container-id-2 div.sk-dashed-wrapped {border: 1px dashed gray;margin: 0 0.4em 0.5em 0.4em;box-sizing: border-box;padding-bottom: 0.4em;background-color: white;}#sk-container-id-2 div.sk-label label {font-family: monospace;font-weight: bold;display: inline-block;line-height: 1.2em;}#sk-container-id-2 div.sk-label-container {text-align: center;}#sk-container-id-2 div.sk-container {/* jupyter's `normalize.less` sets `[hidden] { display: none; }` but bootstrap.min.css set `[hidden] { display: none !important; }` so we also need the `!important` here to be able to override the default hidden behavior on the sphinx rendered scikit-learn.org. See: https://github.com/scikit-learn/scikit-learn/issues/21755 */display: inline-block !important;position: relative;}#sk-container-id-2 div.sk-text-repr-fallback {display: none;}</style><div id=\"sk-container-id-2\" class=\"sk-top-container\"><div class=\"sk-text-repr-fallback\"><pre>GridSearchCV(cv=5,\n",
       "             estimator=VotingClassifier(estimators=[(&#x27;rf&#x27;,\n",
       "                                                     RandomForestClassifier(random_state=42)),\n",
       "                                                    (&#x27;gb&#x27;,\n",
       "                                                     GradientBoostingClassifier(random_state=42)),\n",
       "                                                    (&#x27;ada&#x27;,\n",
       "                                                     AdaBoostClassifier(n_estimators=100,\n",
       "                                                                        random_state=42)),\n",
       "                                                    (&#x27;svc&#x27;,\n",
       "                                                     SVC(probability=True,\n",
       "                                                         random_state=42))]),\n",
       "             param_grid={&#x27;ada__n_estimators&#x27;: [50, 100],\n",
       "                         &#x27;gb__n_estimators&#x27;: [50, 100],\n",
       "                         &#x27;rf__n_estimators&#x27;: [50, 100], &#x27;svc__C&#x27;: [0.1, 1, 5],\n",
       "                         &#x27;svc__kernel&#x27;: [&#x27;linear&#x27;, &#x27;rbf&#x27;]})</pre><b>In a Jupyter environment, please rerun this cell to show the HTML representation or trust the notebook. <br />On GitHub, the HTML representation is unable to render, please try loading this page with nbviewer.org.</b></div><div class=\"sk-container\" hidden><div class=\"sk-item sk-dashed-wrapped\"><div class=\"sk-label-container\"><div class=\"sk-label sk-toggleable\"><input class=\"sk-toggleable__control sk-hidden--visually\" id=\"sk-estimator-id-7\" type=\"checkbox\" ><label for=\"sk-estimator-id-7\" class=\"sk-toggleable__label sk-toggleable__label-arrow\">GridSearchCV</label><div class=\"sk-toggleable__content\"><pre>GridSearchCV(cv=5,\n",
       "             estimator=VotingClassifier(estimators=[(&#x27;rf&#x27;,\n",
       "                                                     RandomForestClassifier(random_state=42)),\n",
       "                                                    (&#x27;gb&#x27;,\n",
       "                                                     GradientBoostingClassifier(random_state=42)),\n",
       "                                                    (&#x27;ada&#x27;,\n",
       "                                                     AdaBoostClassifier(n_estimators=100,\n",
       "                                                                        random_state=42)),\n",
       "                                                    (&#x27;svc&#x27;,\n",
       "                                                     SVC(probability=True,\n",
       "                                                         random_state=42))]),\n",
       "             param_grid={&#x27;ada__n_estimators&#x27;: [50, 100],\n",
       "                         &#x27;gb__n_estimators&#x27;: [50, 100],\n",
       "                         &#x27;rf__n_estimators&#x27;: [50, 100], &#x27;svc__C&#x27;: [0.1, 1, 5],\n",
       "                         &#x27;svc__kernel&#x27;: [&#x27;linear&#x27;, &#x27;rbf&#x27;]})</pre></div></div></div><div class=\"sk-parallel\"><div class=\"sk-parallel-item\"><div class=\"sk-item\"><div class=\"sk-label-container\"><div class=\"sk-label sk-toggleable\"><input class=\"sk-toggleable__control sk-hidden--visually\" id=\"sk-estimator-id-8\" type=\"checkbox\" ><label for=\"sk-estimator-id-8\" class=\"sk-toggleable__label sk-toggleable__label-arrow\">estimator: VotingClassifier</label><div class=\"sk-toggleable__content\"><pre>VotingClassifier(estimators=[(&#x27;rf&#x27;, RandomForestClassifier(random_state=42)),\n",
       "                             (&#x27;gb&#x27;,\n",
       "                              GradientBoostingClassifier(random_state=42)),\n",
       "                             (&#x27;ada&#x27;,\n",
       "                              AdaBoostClassifier(n_estimators=100,\n",
       "                                                 random_state=42)),\n",
       "                             (&#x27;svc&#x27;, SVC(probability=True, random_state=42))])</pre></div></div></div><div class=\"sk-serial\"><div class=\"sk-item sk-dashed-wrapped\"><div class=\"sk-parallel\"><div class=\"sk-parallel-item\"><div class=\"sk-item\"><div class=\"sk-label-container\"><div class=\"sk-label sk-toggleable\"><label>rf</label></div></div><div class=\"sk-serial\"><div class=\"sk-item\"><div class=\"sk-estimator sk-toggleable\"><input class=\"sk-toggleable__control sk-hidden--visually\" id=\"sk-estimator-id-9\" type=\"checkbox\" ><label for=\"sk-estimator-id-9\" class=\"sk-toggleable__label sk-toggleable__label-arrow\">RandomForestClassifier</label><div class=\"sk-toggleable__content\"><pre>RandomForestClassifier(random_state=42)</pre></div></div></div></div></div></div><div class=\"sk-parallel-item\"><div class=\"sk-item\"><div class=\"sk-label-container\"><div class=\"sk-label sk-toggleable\"><label>gb</label></div></div><div class=\"sk-serial\"><div class=\"sk-item\"><div class=\"sk-estimator sk-toggleable\"><input class=\"sk-toggleable__control sk-hidden--visually\" id=\"sk-estimator-id-10\" type=\"checkbox\" ><label for=\"sk-estimator-id-10\" class=\"sk-toggleable__label sk-toggleable__label-arrow\">GradientBoostingClassifier</label><div class=\"sk-toggleable__content\"><pre>GradientBoostingClassifier(random_state=42)</pre></div></div></div></div></div></div><div class=\"sk-parallel-item\"><div class=\"sk-item\"><div class=\"sk-label-container\"><div class=\"sk-label sk-toggleable\"><label>ada</label></div></div><div class=\"sk-serial\"><div class=\"sk-item\"><div class=\"sk-estimator sk-toggleable\"><input class=\"sk-toggleable__control sk-hidden--visually\" id=\"sk-estimator-id-11\" type=\"checkbox\" ><label for=\"sk-estimator-id-11\" class=\"sk-toggleable__label sk-toggleable__label-arrow\">AdaBoostClassifier</label><div class=\"sk-toggleable__content\"><pre>AdaBoostClassifier(n_estimators=100, random_state=42)</pre></div></div></div></div></div></div><div class=\"sk-parallel-item\"><div class=\"sk-item\"><div class=\"sk-label-container\"><div class=\"sk-label sk-toggleable\"><label>svc</label></div></div><div class=\"sk-serial\"><div class=\"sk-item\"><div class=\"sk-estimator sk-toggleable\"><input class=\"sk-toggleable__control sk-hidden--visually\" id=\"sk-estimator-id-12\" type=\"checkbox\" ><label for=\"sk-estimator-id-12\" class=\"sk-toggleable__label sk-toggleable__label-arrow\">SVC</label><div class=\"sk-toggleable__content\"><pre>SVC(probability=True, random_state=42)</pre></div></div></div></div></div></div></div></div></div></div></div></div></div></div></div>"
      ],
      "text/plain": [
       "GridSearchCV(cv=5,\n",
       "             estimator=VotingClassifier(estimators=[('rf',\n",
       "                                                     RandomForestClassifier(random_state=42)),\n",
       "                                                    ('gb',\n",
       "                                                     GradientBoostingClassifier(random_state=42)),\n",
       "                                                    ('ada',\n",
       "                                                     AdaBoostClassifier(n_estimators=100,\n",
       "                                                                        random_state=42)),\n",
       "                                                    ('svc',\n",
       "                                                     SVC(probability=True,\n",
       "                                                         random_state=42))]),\n",
       "             param_grid={'ada__n_estimators': [50, 100],\n",
       "                         'gb__n_estimators': [50, 100],\n",
       "                         'rf__n_estimators': [50, 100], 'svc__C': [0.1, 1, 5],\n",
       "                         'svc__kernel': ['linear', 'rbf']})"
      ]
     },
     "execution_count": 16,
     "metadata": {},
     "output_type": "execute_result"
    }
   ],
   "source": [
    "from sklearn.model_selection import GridSearchCV\n",
    "\n",
    "# Створення паралельного гетерогенного ансамблю з можливістю підбору параметрів\n",
    "ensemble_parallel = VotingClassifier(estimators=[\n",
    "    ('rf', model_rf),\n",
    "    ('gb', model_gb),\n",
    "    ('ada', model_ada),\n",
    "    ('svc', model_svc)\n",
    "], voting='hard')\n",
    "\n",
    "# Задайте спрощену сітку параметрів для пошуку\n",
    "param_grid = {\n",
    "    'rf__n_estimators': [50, 100],\n",
    "    'gb__n_estimators': [50, 100],\n",
    "    'ada__n_estimators': [50, 100],\n",
    "    'svc__C': [0.1, 1, 5],\n",
    "    'svc__kernel': ['linear', 'rbf']\n",
    "}\n",
    "# Створіть об'єкт GridSearchCV\n",
    "grid_search = GridSearchCV(ensemble_parallel, param_grid, cv=5)\n",
    "\n",
    "# Проведіть пошук оптимальних параметрів\n",
    "grid_search.fit(X_train, y_train)"
   ]
  },
  {
   "cell_type": "code",
   "execution_count": 17,
   "id": "4469dad9-69fe-4a5c-aadb-5100efde281e",
   "metadata": {
    "tags": []
   },
   "outputs": [
    {
     "name": "stdout",
     "output_type": "stream",
     "text": [
      "Оптимальні параметри для ансамблю: {'ada__n_estimators': 50, 'gb__n_estimators': 50, 'rf__n_estimators': 50, 'svc__C': 5, 'svc__kernel': 'rbf'}\n",
      "Точність ансамблю з найкращими параметрами: 0.9722222222222222\n"
     ]
    }
   ],
   "source": [
    "# Отримайте найкращі параметри\n",
    "best_params = grid_search.best_params_\n",
    "print(f\"Оптимальні параметри для ансамблю: {best_params}\")\n",
    "\n",
    "# Оцініть точність ансамблю з найкращими параметрами\n",
    "y_pred_best_params = grid_search.predict(X_test)\n",
    "accuracy_best_params = accuracy_score(y_test, y_pred_best_params)\n",
    "print(f\"Точність ансамблю з найкращими параметрами: {accuracy_best_params}\")"
   ]
  },
  {
   "cell_type": "code",
   "execution_count": 19,
   "id": "a57c604d-16aa-4bec-8284-f0e0221d4aee",
   "metadata": {
    "tags": []
   },
   "outputs": [
    {
     "name": "stdout",
     "output_type": "stream",
     "text": [
      "Важливість предикторів для Random Forest:\n",
      "[0.12903568 0.02163008 0.0149994  0.02122211 0.03163118 0.03606108\n",
      " 0.19987868 0.01631    0.02467837 0.19167399 0.07604694 0.09506015\n",
      " 0.14177233]\n",
      "\n",
      "Важливість предикторів для Gradient Boosting:\n",
      "[2.40030252e-03 1.69850510e-02 2.30571126e-02 9.70298821e-03\n",
      " 2.19538946e-02 2.74309360e-03 9.87422159e-02 3.01306414e-04\n",
      " 5.52984062e-05 3.13715714e-01 4.42433633e-03 2.55315725e-01\n",
      " 2.50602961e-01]\n",
      "\n",
      "Важливість предикторів для AdaBoost:\n",
      "[0.   0.   0.   0.   0.   0.   0.49 0.   0.   0.01 0.49 0.01 0.  ]\n"
     ]
    }
   ],
   "source": [
    "# Отримання важливості предикторів для Random Forest\n",
    "rf_feature_importances = model_rf.feature_importances_\n",
    "\n",
    "# Отримання важливості предикторів для Gradient Boosting\n",
    "gb_feature_importances = model_gb.feature_importances_\n",
    "\n",
    "# Отримання важливості предикторів для AdaBoost\n",
    "ada_feature_importances = model_ada.feature_importances_\n",
    "\n",
    "# Виведення результатів\n",
    "print(\"Важливість предикторів для Random Forest:\")\n",
    "print(rf_feature_importances)\n",
    "\n",
    "print(\"\\nВажливість предикторів для Gradient Boosting:\")\n",
    "print(gb_feature_importances)\n",
    "\n",
    "print(\"\\nВажливість предикторів для AdaBoost:\")\n",
    "print(ada_feature_importances)\n"
   ]
  },
  {
   "cell_type": "markdown",
   "id": "e0c9d8ed-712d-4e50-8bec-dac345ca96d4",
   "metadata": {},
   "source": [
    "<h4>Random Forest: </h4>\n",
    "\n",
    "    Значення важливості розподілені між всіма предикторами.\n",
    "    Найважливішими є 'Flavanoids' (0.1999) і 'Color_Intensity' (0.1917).\n",
    "    Предиктори, які мають менше значення важливості, внесли менший вклад у прийняття рішення.\n",
    "<h4>Gradient Boosting:</h4>\n",
    "\n",
    "    'Color_Intensity' (0.3137), 'OD280' (0.2553), та 'Proline' (0.2506) є найважливішими предикторами.\n",
    "     Деякі предиктори, такі як 'Total_Phenols' і 'Hue', також внесли свій вклад, але менший порівняно з топ-3.\n",
    "<h4>AdaBoost:</h4>\n",
    "\n",
    "    Тільки два предиктори, 'Flavanoids' (0.49) і 'Color_Intensity' (0.49), мають значення важливості відмінні від нуля.\n",
    "    Інші предиктори, очевидно, не враховуються моделлю."
   ]
  },
  {
   "cell_type": "code",
   "execution_count": 21,
   "id": "fa6c7c7d-f349-46f2-a4a7-7a5af20281be",
   "metadata": {
    "tags": []
   },
   "outputs": [
    {
     "name": "stdout",
     "output_type": "stream",
     "text": [
      "Точність послідовного гетерогенного ансамблю: 0.9722222222222222\n"
     ]
    }
   ],
   "source": [
    "from sklearn.ensemble import StackingClassifier\n",
    "from sklearn.linear_model import LogisticRegression\n",
    "# Створення моделей для стекінгу\n",
    "estimators = [\n",
    "    ('rf', RandomForestClassifier(n_estimators=100, random_state=42)),\n",
    "    ('gb', GradientBoostingClassifier(n_estimators=100, random_state=42)),\n",
    "    ('ada', AdaBoostClassifier(n_estimators=100, random_state=42)),\n",
    "    ('svc', SVC(probability=True, random_state=42))\n",
    "]\n",
    "\n",
    "# Створення стекінгу\n",
    "ensemble_sequential = StackingClassifier(estimators=estimators, final_estimator=LogisticRegression())\n",
    "\n",
    "# Тренуйте ансамбль\n",
    "ensemble_sequential.fit(X_train, y_train)\n",
    "\n",
    "# Оцінка точності на тестовому наборі\n",
    "y_pred_ensemble_sequential = ensemble_sequential.predict(X_test)\n",
    "accuracy_ensemble_sequential = accuracy_score(y_test, y_pred_ensemble_sequential)\n",
    "\n",
    "print(f\"Точність послідовного гетерогенного ансамблю: {accuracy_ensemble_sequential}\")\n"
   ]
  },
  {
   "cell_type": "code",
   "execution_count": null,
   "id": "08b6ad0c-a833-4133-87dd-d9bf15841977",
   "metadata": {},
   "outputs": [],
   "source": []
  }
 ],
 "metadata": {
  "kernelspec": {
   "display_name": "Python 3 (ipykernel)",
   "language": "python",
   "name": "python3"
  },
  "language_info": {
   "codemirror_mode": {
    "name": "ipython",
    "version": 3
   },
   "file_extension": ".py",
   "mimetype": "text/x-python",
   "name": "python",
   "nbconvert_exporter": "python",
   "pygments_lexer": "ipython3",
   "version": "3.11.4"
  }
 },
 "nbformat": 4,
 "nbformat_minor": 5
}
