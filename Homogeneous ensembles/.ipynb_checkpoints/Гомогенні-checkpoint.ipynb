{
 "cells": [
  {
   "cell_type": "markdown",
   "id": "95eb09b2-b689-46dc-a981-bd22eb8a6b9e",
   "metadata": {},
   "source": [
    "<h3>Загрузка датасету та бібліотек</h3>"
   ]
  },
  {
   "cell_type": "code",
   "execution_count": 9,
   "id": "c089fc84-b030-4361-84ff-89bc831b5e8f",
   "metadata": {
    "tags": []
   },
   "outputs": [],
   "source": [
    "import pandas as pd\n",
    "import numpy as np\n",
    "import matplotlib.pyplot as plt\n",
    "import seaborn as sns"
   ]
  },
  {
   "cell_type": "code",
   "execution_count": 10,
   "id": "9f71de8d-9a54-4566-9563-e2a5b726275a",
   "metadata": {
    "tags": []
   },
   "outputs": [
    {
     "data": {
      "text/html": [
       "<div>\n",
       "<style scoped>\n",
       "    .dataframe tbody tr th:only-of-type {\n",
       "        vertical-align: middle;\n",
       "    }\n",
       "\n",
       "    .dataframe tbody tr th {\n",
       "        vertical-align: top;\n",
       "    }\n",
       "\n",
       "    .dataframe thead th {\n",
       "        text-align: right;\n",
       "    }\n",
       "</style>\n",
       "<table border=\"1\" class=\"dataframe\">\n",
       "  <thead>\n",
       "    <tr style=\"text-align: right;\">\n",
       "      <th></th>\n",
       "      <th>Alcohol</th>\n",
       "      <th>Malic_Acid</th>\n",
       "      <th>Ash</th>\n",
       "      <th>Ash_Alcanity</th>\n",
       "      <th>Magnesium</th>\n",
       "      <th>Total_Phenols</th>\n",
       "      <th>Flavanoids</th>\n",
       "      <th>Nonflavanoid_Phenols</th>\n",
       "      <th>Proanthocyanins</th>\n",
       "      <th>Color_Intensity</th>\n",
       "      <th>Hue</th>\n",
       "      <th>OD280</th>\n",
       "      <th>Proline</th>\n",
       "      <th>Customer_Segment</th>\n",
       "    </tr>\n",
       "  </thead>\n",
       "  <tbody>\n",
       "    <tr>\n",
       "      <th>0</th>\n",
       "      <td>14.23</td>\n",
       "      <td>1.71</td>\n",
       "      <td>2.43</td>\n",
       "      <td>15.6</td>\n",
       "      <td>127</td>\n",
       "      <td>2.80</td>\n",
       "      <td>3.06</td>\n",
       "      <td>0.28</td>\n",
       "      <td>2.29</td>\n",
       "      <td>5.64</td>\n",
       "      <td>1.04</td>\n",
       "      <td>3.92</td>\n",
       "      <td>1065</td>\n",
       "      <td>1</td>\n",
       "    </tr>\n",
       "    <tr>\n",
       "      <th>1</th>\n",
       "      <td>13.20</td>\n",
       "      <td>1.78</td>\n",
       "      <td>2.14</td>\n",
       "      <td>11.2</td>\n",
       "      <td>100</td>\n",
       "      <td>2.65</td>\n",
       "      <td>2.76</td>\n",
       "      <td>0.26</td>\n",
       "      <td>1.28</td>\n",
       "      <td>4.38</td>\n",
       "      <td>1.05</td>\n",
       "      <td>3.40</td>\n",
       "      <td>1050</td>\n",
       "      <td>1</td>\n",
       "    </tr>\n",
       "    <tr>\n",
       "      <th>2</th>\n",
       "      <td>13.16</td>\n",
       "      <td>2.36</td>\n",
       "      <td>2.67</td>\n",
       "      <td>18.6</td>\n",
       "      <td>101</td>\n",
       "      <td>2.80</td>\n",
       "      <td>3.24</td>\n",
       "      <td>0.30</td>\n",
       "      <td>2.81</td>\n",
       "      <td>5.68</td>\n",
       "      <td>1.03</td>\n",
       "      <td>3.17</td>\n",
       "      <td>1185</td>\n",
       "      <td>1</td>\n",
       "    </tr>\n",
       "    <tr>\n",
       "      <th>3</th>\n",
       "      <td>14.37</td>\n",
       "      <td>1.95</td>\n",
       "      <td>2.50</td>\n",
       "      <td>16.8</td>\n",
       "      <td>113</td>\n",
       "      <td>3.85</td>\n",
       "      <td>3.49</td>\n",
       "      <td>0.24</td>\n",
       "      <td>2.18</td>\n",
       "      <td>7.80</td>\n",
       "      <td>0.86</td>\n",
       "      <td>3.45</td>\n",
       "      <td>1480</td>\n",
       "      <td>1</td>\n",
       "    </tr>\n",
       "    <tr>\n",
       "      <th>4</th>\n",
       "      <td>13.24</td>\n",
       "      <td>2.59</td>\n",
       "      <td>2.87</td>\n",
       "      <td>21.0</td>\n",
       "      <td>118</td>\n",
       "      <td>2.80</td>\n",
       "      <td>2.69</td>\n",
       "      <td>0.39</td>\n",
       "      <td>1.82</td>\n",
       "      <td>4.32</td>\n",
       "      <td>1.04</td>\n",
       "      <td>2.93</td>\n",
       "      <td>735</td>\n",
       "      <td>1</td>\n",
       "    </tr>\n",
       "  </tbody>\n",
       "</table>\n",
       "</div>"
      ],
      "text/plain": [
       "   Alcohol  Malic_Acid   Ash  Ash_Alcanity  Magnesium  Total_Phenols  \\\n",
       "0    14.23        1.71  2.43          15.6        127           2.80   \n",
       "1    13.20        1.78  2.14          11.2        100           2.65   \n",
       "2    13.16        2.36  2.67          18.6        101           2.80   \n",
       "3    14.37        1.95  2.50          16.8        113           3.85   \n",
       "4    13.24        2.59  2.87          21.0        118           2.80   \n",
       "\n",
       "   Flavanoids  Nonflavanoid_Phenols  Proanthocyanins  Color_Intensity   Hue  \\\n",
       "0        3.06                  0.28             2.29             5.64  1.04   \n",
       "1        2.76                  0.26             1.28             4.38  1.05   \n",
       "2        3.24                  0.30             2.81             5.68  1.03   \n",
       "3        3.49                  0.24             2.18             7.80  0.86   \n",
       "4        2.69                  0.39             1.82             4.32  1.04   \n",
       "\n",
       "   OD280  Proline  Customer_Segment  \n",
       "0   3.92     1065                 1  \n",
       "1   3.40     1050                 1  \n",
       "2   3.17     1185                 1  \n",
       "3   3.45     1480                 1  \n",
       "4   2.93      735                 1  "
      ]
     },
     "execution_count": 10,
     "metadata": {},
     "output_type": "execute_result"
    }
   ],
   "source": [
    "df = pd.read_csv('Wine.csv')\n",
    "df.head()"
   ]
  },
  {
   "cell_type": "code",
   "execution_count": 11,
   "id": "936ead70-7090-413c-b341-1d889c49ab32",
   "metadata": {
    "tags": []
   },
   "outputs": [],
   "source": [
    "from sklearn.model_selection import train_test_split\n",
    "from sklearn.ensemble import RandomForestClassifier\n",
    "from xgboost import XGBClassifier\n",
    "from sklearn.metrics import accuracy_score\n",
    "from sklearn.ensemble import VotingClassifier"
   ]
  },
  {
   "cell_type": "code",
   "execution_count": 12,
   "id": "c5b9b4ce-2018-4379-8cce-6f330c59875f",
   "metadata": {
    "tags": []
   },
   "outputs": [
    {
     "name": "stdout",
     "output_type": "stream",
     "text": [
      "[0 1 2]\n"
     ]
    }
   ],
   "source": [
    "df['Customer_Segment'] = df['Customer_Segment'] - 1\n",
    "print(df['Customer_Segment'].unique())"
   ]
  },
  {
   "cell_type": "markdown",
   "id": "a35d43a3-6177-4c07-8f45-225155b50baf",
   "metadata": {},
   "source": [
    "<h3>Розбиття на тестову та тренувальну вибірки</h3>"
   ]
  },
  {
   "cell_type": "code",
   "execution_count": 13,
   "id": "f5f8cd69-0238-4fb2-8cd7-d1d2b1cc4695",
   "metadata": {
    "tags": []
   },
   "outputs": [],
   "source": [
    "# X - ознаки\n",
    "X = df[['Alcohol', 'Malic_Acid', 'Ash', 'Ash_Alcanity', 'Magnesium', 'Total_Phenols', 'Flavanoids',\n",
    "        'Nonflavanoid_Phenols', 'Proanthocyanins', 'Color_Intensity', 'Hue', 'OD280', 'Proline']]\n",
    "\n",
    "# y - цільова змінна\n",
    "y = df['Customer_Segment']\n",
    "\n",
    "\n",
    "X_train, X_test, y_train, y_test = train_test_split(X, y, test_size = 0.2, random_state = 0)"
   ]
  },
  {
   "cell_type": "markdown",
   "id": "b1a0906a-fe23-4949-9c1c-404168e6cf9b",
   "metadata": {},
   "source": [
    "<h3>Формування двох моделей(RandomForestClassifier, XGBClassifier)<br>Та зрівнення ефективності</h3>"
   ]
  },
  {
   "cell_type": "code",
   "execution_count": 14,
   "id": "b871f7c9-78a1-4548-a6b6-82a20736a9c5",
   "metadata": {
    "tags": []
   },
   "outputs": [
    {
     "name": "stdout",
     "output_type": "stream",
     "text": [
      "Точність випадкового лісу: 0.9722222222222222\n",
      "Точність XGBoost: 0.9444444444444444\n"
     ]
    }
   ],
   "source": [
    "# Створення двох одиночних моделей (в даному випадку, випадковий ліс та XGBoost)\n",
    "model_rf = RandomForestClassifier(n_estimators=100, random_state=42)\n",
    "model_xgb = XGBClassifier(n_estimators=100, random_state=42)\n",
    "\n",
    "# Тренування одиночних моделей\n",
    "model_rf.fit(X_train, y_train)\n",
    "model_xgb.fit(X_train, y_train)\n",
    "\n",
    "# Оцінка точності одиночних моделей на тестовому наборі\n",
    "y_pred_rf = model_rf.predict(X_test)\n",
    "accuracy_rf = accuracy_score(y_test, y_pred_rf)\n",
    "print(f\"Точність випадкового лісу: {accuracy_rf}\")\n",
    "\n",
    "y_pred_xgb = model_xgb.predict(X_test)\n",
    "accuracy_xgb = accuracy_score(y_test, y_pred_xgb)\n",
    "print(f\"Точність XGBoost: {accuracy_xgb}\")"
   ]
  },
  {
   "cell_type": "markdown",
   "id": "b64c75d6-feb7-422e-9892-bd7f839c621a",
   "metadata": {},
   "source": [
    "<h3>Створення паралелльного гомогенного ансамблю та послідовного, після чого зрівнення результатів ефективності</h3>"
   ]
  },
  {
   "cell_type": "code",
   "execution_count": 15,
   "id": "e4a7bc66-4ed0-46c7-9f85-28bd1f92c206",
   "metadata": {
    "tags": []
   },
   "outputs": [
    {
     "name": "stdout",
     "output_type": "stream",
     "text": [
      "Точність паралельного гомогенного ансамблю: 0.9444444444444444\n",
      "Точність послідовного гомогенного ансамблю: 0.9722222222222222\n"
     ]
    }
   ],
   "source": [
    "# Створення паралельного гомогенного ансамблю\n",
    "ensemble_parallel = VotingClassifier(estimators=[('rf', model_rf), ('xgb', model_xgb)], voting='hard')\n",
    "ensemble_parallel.fit(X_train, y_train)\n",
    "\n",
    "# Оцінка точності паралельного гомогенного ансамблю на тестовому наборі\n",
    "y_pred_ensemble_parallel = ensemble_parallel.predict(X_test)\n",
    "accuracy_ensemble_parallel = accuracy_score(y_test, y_pred_ensemble_parallel)\n",
    "print(f\"Точність паралельного гомогенного ансамблю: {accuracy_ensemble_parallel}\")\n",
    "\n",
    "# Створення послідовного гомогенного ансамблю\n",
    "ensemble_sequential = VotingClassifier(estimators=[('rf', model_rf), ('xgb', model_xgb)], voting='soft')\n",
    "ensemble_sequential.fit(X_train, y_train)\n",
    "\n",
    "# Оцінка точності послідовного гомогенного ансамблю на тестовому наборі\n",
    "y_pred_ensemble_sequential = ensemble_sequential.predict(X_test)\n",
    "accuracy_ensemble_sequential = accuracy_score(y_test, y_pred_ensemble_sequential)\n",
    "print(f\"Точність послідовного гомогенного ансамблю: {accuracy_ensemble_sequential}\")"
   ]
  },
  {
   "cell_type": "markdown",
   "id": "92f3a544-e3ec-4ede-80ea-1de7a5c92428",
   "metadata": {},
   "source": [
    "<h3>Створення паралельного простого ансамблю MaxVoting та складного Stacking (за допомогою LogisticRegression)</h3>"
   ]
  },
  {
   "cell_type": "code",
   "execution_count": 16,
   "id": "6e1897dc-1f20-4a2f-a5e0-b09b594b59f2",
   "metadata": {
    "tags": []
   },
   "outputs": [],
   "source": [
    "from sklearn.ensemble import RandomForestClassifier, VotingClassifier\n",
    "from sklearn.model_selection import train_test_split\n",
    "from sklearn.metrics import accuracy_score\n",
    "from sklearn.ensemble import StackingClassifier\n",
    "from sklearn.linear_model import LogisticRegression\n",
    "from sklearn.svm import SVC"
   ]
  },
  {
   "cell_type": "code",
   "execution_count": 17,
   "id": "c9500828-7ad2-4418-9bfa-6d9fde173b6c",
   "metadata": {
    "tags": []
   },
   "outputs": [
    {
     "name": "stdout",
     "output_type": "stream",
     "text": [
      "Точність Max Voting: 0.9722222222222222\n",
      "Точність Stacking: 1.0\n"
     ]
    }
   ],
   "source": [
    "model_rf1 = RandomForestClassifier(n_estimators=100, random_state=42)\n",
    "model_rf2 = RandomForestClassifier(n_estimators=100, random_state=42)\n",
    "\n",
    "# Простий метод: Max Voting (Паралельний)\n",
    "ensemble_max_voting = VotingClassifier(estimators=[('rf1', model_rf1), ('rf2', model_rf2)], voting='hard')\n",
    "\n",
    "# Тренування ансамблю Max Voting\n",
    "ensemble_max_voting.fit(X_train, y_train)\n",
    "\n",
    "# Прогноз на тестовому наборі\n",
    "y_pred_max_voting = ensemble_max_voting.predict(X_test)\n",
    "\n",
    "# Оцінка точності Max Voting\n",
    "accuracy_max_voting = accuracy_score(y_test, y_pred_max_voting)\n",
    "print(f\"Точність Max Voting: {accuracy_max_voting}\")\n",
    "\n",
    "# Складний метод: Stacking (Паралельний)\n",
    "# Створення базових моделей\n",
    "base_models = [('rf1', model_rf1), ('rf2', model_rf2)]\n",
    "\n",
    "# Створення моделі Stacking з використанням Logistic Regression в якості метамоделі\n",
    "meta_model = LogisticRegression()\n",
    "ensemble_stacking = StackingClassifier(estimators=base_models, final_estimator=meta_model)\n",
    "\n",
    "# Тренування ансамблю Stacking\n",
    "ensemble_stacking.fit(X_train, y_train)\n",
    "\n",
    "# Прогноз на тестовому наборі\n",
    "y_pred_stacking = ensemble_stacking.predict(X_test)\n",
    "\n",
    "# Оцінка точності Stacking\n",
    "accuracy_stacking = accuracy_score(y_test, y_pred_stacking)\n",
    "print(f\"Точність Stacking: {accuracy_stacking}\")"
   ]
  },
  {
   "cell_type": "markdown",
   "id": "3147ee02-730e-45c7-b468-16febfae4e54",
   "metadata": {},
   "source": [
    "<h3>Підбір оптимальних параметрів для створення ансамблевих моделей</h3>"
   ]
  },
  {
   "cell_type": "code",
   "execution_count": 19,
   "id": "5e7e8020-0025-47f1-9c68-a90049bb9a70",
   "metadata": {
    "tags": []
   },
   "outputs": [
    {
     "name": "stdout",
     "output_type": "stream",
     "text": [
      "Оптимальні параметри для Max Voting: {'voting': 'hard', 'weights': [1, 1]}\n"
     ]
    }
   ],
   "source": [
    "from sklearn.ensemble import RandomForestClassifier, VotingClassifier\n",
    "from sklearn.model_selection import GridSearchCV\n",
    "\n",
    "# Створення двох одиночних моделей\n",
    "model_rf1 = RandomForestClassifier(random_state=42)\n",
    "model_rf2 = RandomForestClassifier(random_state=42)\n",
    "\n",
    "# Створення гомогенного ансамблю\n",
    "ensemble_max_voting = VotingClassifier(estimators=[('rf1', model_rf1), ('rf2', model_rf2)], voting='hard')\n",
    "\n",
    "# Параметри для налаштування VotingClassifier\n",
    "param_grid_voting = {\n",
    "    'voting': ['hard', 'soft'],\n",
    "    'weights': [[1, 1], [2, 1], [1, 2]]\n",
    "}\n",
    "\n",
    "# Перехресна перевірка для Max Voting (Паралельний)\n",
    "grid_search_max_voting = GridSearchCV(ensemble_max_voting, param_grid_voting, cv=5)\n",
    "grid_search_max_voting.fit(X_train, y_train)\n",
    "\n",
    "# Оптимальні параметри для Max Voting\n",
    "best_params_max_voting = grid_search_max_voting.best_params_\n",
    "print(f\"Оптимальні параметри для Max Voting: {best_params_max_voting}\")\n"
   ]
  },
  {
   "cell_type": "markdown",
   "id": "d8c5c5ff-1150-4ef6-b203-ac8b7c4e1eab",
   "metadata": {},
   "source": [
    "<h3>Розробка та реалізуція n-рівневого гомогенного ансамблю (де n>2) з застосуванням VotingClassifier</h3>"
   ]
  },
  {
   "cell_type": "code",
   "execution_count": 22,
   "id": "fb06a75d-c7c8-4a4b-954b-a99d175d83bf",
   "metadata": {
    "tags": []
   },
   "outputs": [
    {
     "name": "stdout",
     "output_type": "stream",
     "text": [
      "Точність 1-го рівня (Random Forest): 0.9722222222222222\n",
      "Точність 2-го рівня (Voting): 0.9722222222222222\n",
      "Точність 3-го рівня (Weighted): 0.9722222222222222\n"
     ]
    }
   ],
   "source": [
    "# 1-й рівень: Багатокласовий класифікатор (Random Forest)\n",
    "model_rf = RandomForestClassifier(n_estimators=100, random_state=42)\n",
    "model_rf.fit(X_train, y_train)\n",
    "\n",
    "# Прогноз на тестовому наборі для 1-го рівня\n",
    "y_pred_rf = model_rf.predict(X_test)\n",
    "\n",
    "# Оцінка точності для 1-го рівня\n",
    "accuracy_rf = accuracy_score(y_test, y_pred_rf)\n",
    "print(f\"Точність 1-го рівня (Random Forest): {accuracy_rf}\")\n",
    "\n",
    "# 2-й рівень: Голосування (паралельний)\n",
    "ensemble_voting = VotingClassifier(estimators=[('rf', model_rf)], voting='hard')\n",
    "ensemble_voting.fit(X_train, y_train)\n",
    "\n",
    "# Прогноз на тестовому наборі для 2-го рівня\n",
    "y_pred_voting = ensemble_voting.predict(X_test)\n",
    "\n",
    "# Оцінка точності для 2-го рівня\n",
    "accuracy_voting = accuracy_score(y_test, y_pred_voting)\n",
    "print(f\"Точність 2-го рівня (Voting): {accuracy_voting}\")\n",
    "\n",
    "# 3-й рівень: Зважування (паралельний)\n",
    "# За припущенням, що model_rf - це ваш Random Forest\n",
    "ensemble_weighted = VotingClassifier(estimators=[('rf', model_rf)], voting='soft', weights=[2])\n",
    "ensemble_weighted.fit(X_train, y_train)\n",
    "\n",
    "# Прогноз на тестовому наборі для 3-го рівня\n",
    "y_pred_weighted = ensemble_weighted.predict(X_test)\n",
    "\n",
    "# Оцінка точності для 3-го рівня\n",
    "accuracy_weighted = accuracy_score(y_test, y_pred_weighted)\n",
    "print(f\"Точність 3-го рівня (Weighted): {accuracy_weighted}\")"
   ]
  },
  {
   "cell_type": "code",
   "execution_count": null,
   "id": "5b32d2c1-a34f-4634-b0d9-f87758845769",
   "metadata": {},
   "outputs": [],
   "source": []
  }
 ],
 "metadata": {
  "kernelspec": {
   "display_name": "Python 3 (ipykernel)",
   "language": "python",
   "name": "python3"
  },
  "language_info": {
   "codemirror_mode": {
    "name": "ipython",
    "version": 3
   },
   "file_extension": ".py",
   "mimetype": "text/x-python",
   "name": "python",
   "nbconvert_exporter": "python",
   "pygments_lexer": "ipython3",
   "version": "3.11.4"
  }
 },
 "nbformat": 4,
 "nbformat_minor": 5
}
