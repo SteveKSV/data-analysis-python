{
 "cells": [
  {
   "cell_type": "markdown",
   "id": "eca5f2f7-54c9-4648-a2b7-01bf18421686",
   "metadata": {},
   "source": [
    "<h3>Загрузка датасету</h3>"
   ]
  },
  {
   "cell_type": "code",
   "execution_count": 1,
   "id": "bf21722b-87ae-4f4d-a82b-158e96a38c86",
   "metadata": {
    "tags": []
   },
   "outputs": [],
   "source": [
    "import pandas as pd\n",
    "from sklearn.model_selection import train_test_split\n",
    "from sklearn.linear_model import LogisticRegression\n",
    "from sklearn.linear_model import LinearRegression\n",
    "from sklearn.model_selection import RandomizedSearchCV, GridSearchCV\n",
    "import numpy as np"
   ]
  },
  {
   "cell_type": "code",
   "execution_count": 2,
   "id": "5e0e76a8-1296-498f-8b0a-950c1abd3293",
   "metadata": {
    "tags": []
   },
   "outputs": [],
   "source": [
    "data = {\n",
    "    'year': [2017,2017,2017,2017,2017,2017,2017,2017,2017,2017,2017,2017,2016,2016,2016,2016,2016,2016,2016,2016,2016,2016,2016,2016],\n",
    "    'month': [12,11,10,9,8,7,6,5,4,3,2,1,12,11,10,9,8,7,6,5,4,3,2,1],\n",
    "    'interest_rate': [2.75,2.5,2.5,2.5,2.5,2.5,2.5,2.25,2.25,2.25,2,2,2,1.75,1.75,1.75,1.75,1.75,1.75,1.75,1.75,1.75,1.75,1.75],\n",
    "    'unemployment_rate': [5.3,5.3,5.3,5.3,5.4,5.6,5.5,5.5,5.5,5.6,5.7,5.9,6,5.9,5.8,6.1,6.2,6.1,6.1,6.1,5.9,6.2,6.2,6.1],\n",
    "    'index_price': [1464,1394,1357,1293,1256,1254,1234,1195,1159,1167,1130,1075,1047,965,943,958,971,949,884,866,876,822,704,719]        \n",
    "}\n",
    "\n",
    "df = pd.DataFrame(data)"
   ]
  },
  {
   "cell_type": "markdown",
   "id": "d3344e92-b30d-4a66-9141-0eb04a8f22ca",
   "metadata": {},
   "source": [
    "<h3>Розділення даних на X та Y</h3>"
   ]
  },
  {
   "cell_type": "code",
   "execution_count": 3,
   "id": "3d9e3ad3-c7b7-4572-87c0-432abf916c4d",
   "metadata": {},
   "outputs": [],
   "source": [
    "X = df.drop(['index_price'], axis=1)\n",
    "y = df['index_price']"
   ]
  },
  {
   "cell_type": "markdown",
   "id": "547225a5-f20d-40da-867c-55774edf9c75",
   "metadata": {},
   "source": [
    "<h3>Розділення на тестову та тренувальну вибірки</h3>"
   ]
  },
  {
   "cell_type": "code",
   "execution_count": 4,
   "id": "849fd829-395c-428b-8546-ac3a257ebccd",
   "metadata": {},
   "outputs": [],
   "source": [
    "X_train, X_test, y_train, y_test = train_test_split(X, y, test_size=0.3, random_state=42)"
   ]
  },
  {
   "cell_type": "markdown",
   "id": "03350f71-f69e-4717-a944-6766e3841133",
   "metadata": {},
   "source": [
    "<h3>Стандартизація ознак</h3>"
   ]
  },
  {
   "cell_type": "code",
   "execution_count": 5,
   "id": "0f92e668-a98a-4b30-a7cb-d7a551ac6475",
   "metadata": {},
   "outputs": [],
   "source": [
    "from sklearn.preprocessing import StandardScaler\n",
    "scaler = StandardScaler()\n",
    "X_train = scaler.fit_transform(X_train)\n",
    "X_test = scaler.transform(X_test)"
   ]
  },
  {
   "cell_type": "markdown",
   "id": "47d81838-a4fe-47eb-b5b7-d1837b26f58c",
   "metadata": {},
   "source": [
    "<h3>Прогнозу неперервної числової зміної</h3>"
   ]
  },
  {
   "cell_type": "code",
   "execution_count": 6,
   "id": "9a66763e-a8bf-4783-b525-d5d7657e4ebb",
   "metadata": {
    "tags": []
   },
   "outputs": [
    {
     "name": "stdout",
     "output_type": "stream",
     "text": [
      "Model 1 - R^2: 0.9782974467058905, Adjusted R^2: 0.9737284881176569\n",
      "Model 2 - R^2: 0.9768071944242478, Adjusted R^2: 0.9745983557979857\n",
      "Model 3 - R^2: 0.8757089547891359, Adjusted R^2: 0.8757089547891359\n"
     ]
    }
   ],
   "source": [
    "from sklearn.metrics import r2_score, mean_squared_error\n",
    "n = X.shape[0]  # Кількість спостережень\n",
    "p = X.shape[1]  # Кількість змінних\n",
    "\n",
    "# Побудова лінійних моделей\n",
    "model1 = LinearRegression().fit(X, y)\n",
    "\n",
    "# Виберемо половину змінних для model2\n",
    "half_columns = X.shape[1] // 2\n",
    "model2 = LinearRegression().fit(X.iloc[:, :half_columns], y)\n",
    "\n",
    "# Виберемо одну зміну для model3\n",
    "selected_column_name = 'interest_rate'  # Вкажіть ім'я вибраної змінної\n",
    "model3 = LinearRegression().fit(X[selected_column_name].values.reshape(-1, 1), y)\n",
    "\n",
    "# Обчислення R^2 і скоригованого R^2\n",
    "y_pred1 = model1.predict(X)\n",
    "y_pred2 = model2.predict(X.iloc[:, :half_columns])\n",
    "y_pred3 = model3.predict(X[selected_column_name].values.reshape(-1, 1))\n",
    "\n",
    "r2_1 = r2_score(y, y_pred1)\n",
    "r2_2 = r2_score(y, y_pred2)\n",
    "r2_3 = r2_score(y, y_pred3)\n",
    "\n",
    "adj_r2_1 = 1 - (1 - r2_1) * (n - 1) / (n - p - 1)\n",
    "adj_r2_2 = 1 - (1 - r2_2) * (n - 1) / (n - p // 2 - 1)\n",
    "adj_r2_3 = 1 - (1 - r2_3) * (n - 1) / (n - 1)\n",
    "\n",
    "# Вивід результатів\n",
    "print(f\"Model 1 - R^2: {r2_1}, Adjusted R^2: {adj_r2_1}\")\n",
    "print(f\"Model 2 - R^2: {r2_2}, Adjusted R^2: {adj_r2_2}\")\n",
    "print(f\"Model 3 - R^2: {r2_3}, Adjusted R^2: {adj_r2_3}\")\n"
   ]
  },
  {
   "cell_type": "markdown",
   "id": "14f6c630-d5bb-4d00-854d-445cd7761503",
   "metadata": {},
   "source": [
    "<h3>Загрузка іншого датасету для оцінення precision, recall, accuracy</h3>"
   ]
  },
  {
   "cell_type": "code",
   "execution_count": 7,
   "id": "5199c45a-b70f-492d-9d53-059f1d0aa118",
   "metadata": {
    "tags": []
   },
   "outputs": [
    {
     "data": {
      "text/html": [
       "<div>\n",
       "<style scoped>\n",
       "    .dataframe tbody tr th:only-of-type {\n",
       "        vertical-align: middle;\n",
       "    }\n",
       "\n",
       "    .dataframe tbody tr th {\n",
       "        vertical-align: top;\n",
       "    }\n",
       "\n",
       "    .dataframe thead th {\n",
       "        text-align: right;\n",
       "    }\n",
       "</style>\n",
       "<table border=\"1\" class=\"dataframe\">\n",
       "  <thead>\n",
       "    <tr style=\"text-align: right;\">\n",
       "      <th></th>\n",
       "      <th>Age</th>\n",
       "      <th>Sex</th>\n",
       "      <th>BP</th>\n",
       "      <th>Cholesterol</th>\n",
       "      <th>Na_to_K</th>\n",
       "      <th>Drug</th>\n",
       "    </tr>\n",
       "  </thead>\n",
       "  <tbody>\n",
       "    <tr>\n",
       "      <th>0</th>\n",
       "      <td>23</td>\n",
       "      <td>F</td>\n",
       "      <td>HIGH</td>\n",
       "      <td>HIGH</td>\n",
       "      <td>25.355</td>\n",
       "      <td>DrugY</td>\n",
       "    </tr>\n",
       "    <tr>\n",
       "      <th>1</th>\n",
       "      <td>47</td>\n",
       "      <td>M</td>\n",
       "      <td>LOW</td>\n",
       "      <td>HIGH</td>\n",
       "      <td>13.093</td>\n",
       "      <td>drugC</td>\n",
       "    </tr>\n",
       "    <tr>\n",
       "      <th>2</th>\n",
       "      <td>47</td>\n",
       "      <td>M</td>\n",
       "      <td>LOW</td>\n",
       "      <td>HIGH</td>\n",
       "      <td>10.114</td>\n",
       "      <td>drugC</td>\n",
       "    </tr>\n",
       "  </tbody>\n",
       "</table>\n",
       "</div>"
      ],
      "text/plain": [
       "   Age Sex    BP Cholesterol  Na_to_K   Drug\n",
       "0   23   F  HIGH        HIGH   25.355  DrugY\n",
       "1   47   M   LOW        HIGH   13.093  drugC\n",
       "2   47   M   LOW        HIGH   10.114  drugC"
      ]
     },
     "execution_count": 7,
     "metadata": {},
     "output_type": "execute_result"
    }
   ],
   "source": [
    "import pandas as pd\n",
    "from sklearn.model_selection import train_test_split\n",
    "from sklearn.linear_model import LogisticRegression\n",
    "from sklearn.linear_model import LinearRegression\n",
    "from sklearn.model_selection import RandomizedSearchCV, GridSearchCV\n",
    "import numpy as np\n",
    "\n",
    "# Завантаження та підготовка даних\n",
    "dataset = pd.read_csv('drug200.csv')\n",
    "dataset.head(3)"
   ]
  },
  {
   "cell_type": "markdown",
   "id": "c15ed24f-40be-4272-b9c1-5cc6773ee200",
   "metadata": {},
   "source": [
    "<h3>Обчислення метрик (також застосовуємо підбор параметрів)</h3>"
   ]
  },
  {
   "cell_type": "code",
   "execution_count": 8,
   "id": "a33942c3-246e-4087-a23e-fed3c7a0b918",
   "metadata": {
    "tags": []
   },
   "outputs": [
    {
     "name": "stdout",
     "output_type": "stream",
     "text": [
      "Модель 1 (всі ознаки):\n",
      "Accuracy: 0.625\n",
      "Recall: 0.625\n",
      "Precision: 0.800\n",
      "Модель 2 (половина ознак):\n",
      "Accuracy: 0.625\n",
      "Recall: 0.625\n",
      "Precision: 0.816\n",
      "Модель 3 (одна ознака):\n",
      "Accuracy: 0.375\n",
      "Recall: 0.375\n",
      "Precision: 0.766\n"
     ]
    }
   ],
   "source": [
    "import pandas as pd\n",
    "from sklearn.model_selection import train_test_split\n",
    "from sklearn.svm import SVC\n",
    "from sklearn.metrics import accuracy_score, recall_score, precision_score\n",
    "from sklearn.model_selection import GridSearchCV\n",
    "\n",
    "# Розділіть дані на навчальний і тестовий набори\n",
    "X = dataset.drop('Drug', axis=1)\n",
    "y = dataset['Drug']\n",
    "\n",
    "# Кодування категоріальних ознак з одними плаваючими точкою\n",
    "X_encoded = pd.get_dummies(X, columns=['Sex', 'BP', 'Cholesterol'], drop_first=True)\n",
    "\n",
    "# Розділіть закодовані дані на навчальний і тестовий набори\n",
    "X_train_encoded, X_test_encoded, y_train, y_test = train_test_split(X_encoded, y, test_size=0.2, random_state=42)\n",
    "\n",
    "# Модель 1: Всі ознаки\n",
    "model1 = SVC(kernel='rbf', random_state=42)\n",
    "model1.fit(X_train_encoded, y_train)\n",
    "y_pred_model1 = model1.predict(X_test_encoded)\n",
    "\n",
    "# Обчислення параметрів якості для моделі 1 (без підбору параметрів)\n",
    "accuracy_model1 = accuracy_score(y_test, y_pred_model1)\n",
    "recall_model1 = recall_score(y_test, y_pred_model1, average='weighted')\n",
    "precision_model1 = precision_score(y_test, y_pred_model1, average='weighted', zero_division=1)\n",
    "\n",
    "# Модель 2: Половина ознак\n",
    "X_half = X_encoded.iloc[:, :X_encoded.shape[1] // 2]\n",
    "X_train_half, X_test_half = train_test_split(X_half, test_size=0.2, random_state=42)\n",
    "\n",
    "model2 = SVC(kernel='rbf', random_state=42)\n",
    "model2.fit(X_train_half, y_train)\n",
    "y_pred_model2 = model2.predict(X_test_half)\n",
    "\n",
    "# Обчислення параметрів якості для моделі 2 (без підбору параметрів)\n",
    "accuracy_model2 = accuracy_score(y_test, y_pred_model2)\n",
    "recall_model2 = recall_score(y_test, y_pred_model2, average='weighted')\n",
    "precision_model2 = precision_score(y_test, y_pred_model2, average='weighted', zero_division=1)\n",
    "\n",
    "# Модель 3: Одна ознака\n",
    "X_one_feature = X_encoded[['Age']]  # Замініть 'FeatureName' на назву вашої ознаки\n",
    "X_train_one_feature, X_test_one_feature = train_test_split(X_one_feature, test_size=0.2, random_state=42)\n",
    "\n",
    "model3 = SVC(kernel='rbf', random_state=42)\n",
    "model3.fit(X_train_one_feature, y_train)\n",
    "y_pred_model3 = model3.predict(X_test_one_feature)\n",
    "\n",
    "# Обчислення параметрів якості для моделі 3 (без підбору параметрів)\n",
    "accuracy_model3 = accuracy_score(y_test, y_pred_model3)\n",
    "recall_model3 = recall_score(y_test, y_pred_model3, average='weighted')\n",
    "precision_model3 = precision_score(y_test, y_pred_model3, average='weighted', zero_division=1)\n",
    "\n",
    "# Виведення результатів для всіх трьох моделей ДО підбору параметрів\n",
    "print(\"Модель 1 (всі ознаки):\")\n",
    "print(f\"Accuracy: {accuracy_model1:.3f}\")\n",
    "print(f\"Recall: {recall_model1:.3f}\")\n",
    "print(f\"Precision: {precision_model1:.3f}\")\n",
    "\n",
    "print(\"Модель 2 (половина ознак):\")\n",
    "print(f\"Accuracy: {accuracy_model2:.3f}\")\n",
    "print(f\"Recall: {recall_model2:.3f}\")\n",
    "print(f\"Precision: {precision_model2:.3f}\")\n",
    "\n",
    "print(\"Модель 3 (одна ознака):\")\n",
    "print(f\"Accuracy: {accuracy_model3:.3f}\")\n",
    "print(f\"Recall: {recall_model3:.3f}\")\n",
    "print(f\"Precision: {precision_model3:.3f}\")\n",
    "\n"
   ]
  },
  {
   "cell_type": "code",
   "execution_count": 9,
   "id": "cf698eb5-3bda-426a-a4ca-6b6f0edcddc3",
   "metadata": {
    "tags": []
   },
   "outputs": [
    {
     "name": "stdout",
     "output_type": "stream",
     "text": [
      "Модель 1 (після підбору параметрів):\n",
      "Accuracy: 0.650\n",
      "Recall: 0.650\n",
      "Precision: 0.846\n"
     ]
    }
   ],
   "source": [
    "from sklearn.model_selection import GridSearchCV\n",
    "\n",
    "# Модель 1: Підбір оптимальних параметрів для всіх ознак\n",
    "param_grid_model1 = {\n",
    "    'C': [0.1, 1, 3],\n",
    "    'kernel': ['rbf'],\n",
    "    'gamma': [0.1, 1, 'scale', 'auto'],\n",
    "}\n",
    "\n",
    "grid_search_model1 = GridSearchCV(SVC(random_state=42), param_grid_model1, cv=5)\n",
    "grid_search_model1.fit(X_train_encoded, y_train)\n",
    "best_model1 = grid_search_model1.best_estimator_\n",
    "y_pred_best_model1 = best_model1.predict(X_test_encoded)\n",
    "\n",
    "# Обчислення параметрів якості для найкращої моделі 1 (після підбору параметрів)\n",
    "accuracy_best_model1 = accuracy_score(y_test, y_pred_best_model1)\n",
    "recall_best_model1 = recall_score(y_test, y_pred_best_model1, average='weighted')\n",
    "precision_best_model1 = precision_score(y_test, y_pred_best_model1, average='weighted', zero_division=1)\n",
    "\n",
    "# Виведення результатів для всіх трьох моделей ПІСЛЯ підбору параметрів\n",
    "print(\"Модель 1 (після підбору параметрів):\")\n",
    "print(f\"Accuracy: {accuracy_best_model1:.3f}\")\n",
    "print(f\"Recall: {recall_best_model1:.3f}\")\n",
    "print(f\"Precision: {precision_best_model1:.3f}\")\n"
   ]
  },
  {
   "cell_type": "code",
   "execution_count": 24,
   "id": "70f7d978-2d8d-4b43-9ef5-660ddbf4c7ba",
   "metadata": {
    "tags": []
   },
   "outputs": [
    {
     "name": "stdout",
     "output_type": "stream",
     "text": [
      "Модель 2 (після підбору параметрів):\n",
      "Accuracy: 0.650\n",
      "Recall: 0.650\n",
      "Precision: 0.805\n"
     ]
    }
   ],
   "source": [
    "# Модель 2: Підбір оптимальних параметрів для половини ознак\n",
    "param_grid_model2 = {\n",
    "    'C': [0.1, 1, 10],\n",
    "    'kernel': ['rbf', 'linear'],\n",
    "    'gamma': [0.1, 1, 'scale', 'auto'],\n",
    "}\n",
    "\n",
    "grid_search_model2 = GridSearchCV(SVC(random_state=42), param_grid_model2, cv=5)\n",
    "grid_search_model2.fit(X_train_half, y_train)\n",
    "best_model2 = grid_search_model2.best_estimator_\n",
    "y_pred_best_model2 = best_model2.predict(X_test_half)\n",
    "\n",
    "# Обчислення параметрів якості для найкращої моделі 2 (після підбору параметрів)\n",
    "accuracy_best_model2 = accuracy_score(y_test, y_pred_best_model2)\n",
    "recall_best_model2 = recall_score(y_test, y_pred_best_model2, average='weighted')\n",
    "precision_best_model2 = precision_score(y_test, y_pred_best_model2, average='weighted', zero_division=1)\n",
    "\n",
    "print(\"Модель 2 (після підбору параметрів):\")\n",
    "print(f\"Accuracy: {accuracy_best_model2:.3f}\")\n",
    "print(f\"Recall: {recall_best_model2:.3f}\")\n",
    "print(f\"Precision: {precision_best_model2:.3f}\")\n"
   ]
  },
  {
   "cell_type": "code",
   "execution_count": 25,
   "id": "a3f4776d-47b3-4ea8-a1cf-150416c7d0ca",
   "metadata": {
    "tags": []
   },
   "outputs": [
    {
     "name": "stdout",
     "output_type": "stream",
     "text": [
      "Модель 3 (після підбору параметрів):\n",
      "Accuracy: 0.375\n",
      "Recall: 0.375\n",
      "Precision: 0.766\n"
     ]
    }
   ],
   "source": [
    "# Модель 3: Підбір оптимальних параметрів для однієї ознаки\n",
    "param_grid_model3 = {\n",
    "    'C': [0.1, 1, 10],\n",
    "    'kernel': ['rbf', 'linear'],\n",
    "    'gamma': [0.1, 1, 'scale', 'auto'],\n",
    "}\n",
    "\n",
    "grid_search_model3 = GridSearchCV(SVC(random_state=42), param_grid_model3, cv=5)\n",
    "grid_search_model3.fit(X_train_one_feature, y_train)\n",
    "best_model3 = grid_search_model3.best_estimator_\n",
    "y_pred_best_model3 = best_model3.predict(X_test_one_feature)\n",
    "\n",
    "# Обчислення параметрів якості для найкращої моделі 3 (після підбору параметрів)\n",
    "accuracy_best_model3 = accuracy_score(y_test, y_pred_best_model3)\n",
    "recall_best_model3 = recall_score(y_test, y_pred_best_model3, average='weighted')\n",
    "precision_best_model3 = precision_score(y_test, y_pred_best_model3, average='weighted', zero_division=1)\n",
    "\n",
    "print(\"Модель 3 (після підбору параметрів):\")\n",
    "print(f\"Accuracy: {accuracy_best_model3:.3f}\")\n",
    "print(f\"Recall: {recall_best_model3:.3f}\")\n",
    "print(f\"Precision: {precision_best_model3:.3f}\")"
   ]
  },
  {
   "cell_type": "markdown",
   "id": "8bea2e26-841b-46a8-a59d-483c8708c920",
   "metadata": {},
   "source": [
    "<h3>Оцінка F-міри моделей</h3>"
   ]
  },
  {
   "cell_type": "code",
   "execution_count": 12,
   "id": "7685e4f6-0891-4e0c-948d-5068041e1c15",
   "metadata": {
    "tags": []
   },
   "outputs": [
    {
     "name": "stdout",
     "output_type": "stream",
     "text": [
      "F-міра для моделі 1 (без підбору параметрів): 0.5133272058823529\n",
      "F-міра для моделі 2 (після підбору параметрів): 0.5200460829493088\n"
     ]
    }
   ],
   "source": [
    "from sklearn.metrics import f1_score\n",
    "\n",
    "def calculate_f1_score(y_true, y_pred):\n",
    "    return f1_score(y_true, y_pred, average='weighted')\n",
    "\n",
    "# Результати моделі 1\n",
    "f1_score_model1 = calculate_f1_score(y_test, y_pred_model1)\n",
    "\n",
    "# Результати моделі 2\n",
    "f1_score_model2 = calculate_f1_score(y_test, y_pred_model2)\n",
    "\n",
    "# Виведення результатів\n",
    "print(\"F-міра для моделі 1 (без підбору параметрів):\", f1_score_model1)\n",
    "print(\"F-міра для моделі 2 (після підбору параметрів):\", f1_score_model2)"
   ]
  },
  {
   "cell_type": "markdown",
   "id": "bd586af6-981a-4006-a2ee-f10e4dfe8c6f",
   "metadata": {},
   "source": [
    "<h3>ROC AUC для ознак Purchased</h3>"
   ]
  },
  {
   "cell_type": "code",
   "execution_count": 13,
   "id": "c3ae289d-d884-46e2-912b-10bae23cb8ca",
   "metadata": {
    "tags": []
   },
   "outputs": [
    {
     "data": {
      "text/html": [
       "<div>\n",
       "<style scoped>\n",
       "    .dataframe tbody tr th:only-of-type {\n",
       "        vertical-align: middle;\n",
       "    }\n",
       "\n",
       "    .dataframe tbody tr th {\n",
       "        vertical-align: top;\n",
       "    }\n",
       "\n",
       "    .dataframe thead th {\n",
       "        text-align: right;\n",
       "    }\n",
       "</style>\n",
       "<table border=\"1\" class=\"dataframe\">\n",
       "  <thead>\n",
       "    <tr style=\"text-align: right;\">\n",
       "      <th></th>\n",
       "      <th>User ID</th>\n",
       "      <th>Gender</th>\n",
       "      <th>Age</th>\n",
       "      <th>EstimatedSalary</th>\n",
       "      <th>Purchased</th>\n",
       "    </tr>\n",
       "  </thead>\n",
       "  <tbody>\n",
       "    <tr>\n",
       "      <th>0</th>\n",
       "      <td>15624510</td>\n",
       "      <td>Male</td>\n",
       "      <td>19</td>\n",
       "      <td>19000</td>\n",
       "      <td>0</td>\n",
       "    </tr>\n",
       "    <tr>\n",
       "      <th>1</th>\n",
       "      <td>15810944</td>\n",
       "      <td>Male</td>\n",
       "      <td>35</td>\n",
       "      <td>20000</td>\n",
       "      <td>0</td>\n",
       "    </tr>\n",
       "    <tr>\n",
       "      <th>2</th>\n",
       "      <td>15668575</td>\n",
       "      <td>Female</td>\n",
       "      <td>26</td>\n",
       "      <td>43000</td>\n",
       "      <td>0</td>\n",
       "    </tr>\n",
       "    <tr>\n",
       "      <th>3</th>\n",
       "      <td>15603246</td>\n",
       "      <td>Female</td>\n",
       "      <td>27</td>\n",
       "      <td>57000</td>\n",
       "      <td>0</td>\n",
       "    </tr>\n",
       "    <tr>\n",
       "      <th>4</th>\n",
       "      <td>15804002</td>\n",
       "      <td>Male</td>\n",
       "      <td>19</td>\n",
       "      <td>76000</td>\n",
       "      <td>0</td>\n",
       "    </tr>\n",
       "    <tr>\n",
       "      <th>...</th>\n",
       "      <td>...</td>\n",
       "      <td>...</td>\n",
       "      <td>...</td>\n",
       "      <td>...</td>\n",
       "      <td>...</td>\n",
       "    </tr>\n",
       "    <tr>\n",
       "      <th>395</th>\n",
       "      <td>15691863</td>\n",
       "      <td>Female</td>\n",
       "      <td>46</td>\n",
       "      <td>41000</td>\n",
       "      <td>1</td>\n",
       "    </tr>\n",
       "    <tr>\n",
       "      <th>396</th>\n",
       "      <td>15706071</td>\n",
       "      <td>Male</td>\n",
       "      <td>51</td>\n",
       "      <td>23000</td>\n",
       "      <td>1</td>\n",
       "    </tr>\n",
       "    <tr>\n",
       "      <th>397</th>\n",
       "      <td>15654296</td>\n",
       "      <td>Female</td>\n",
       "      <td>50</td>\n",
       "      <td>20000</td>\n",
       "      <td>1</td>\n",
       "    </tr>\n",
       "    <tr>\n",
       "      <th>398</th>\n",
       "      <td>15755018</td>\n",
       "      <td>Male</td>\n",
       "      <td>36</td>\n",
       "      <td>33000</td>\n",
       "      <td>0</td>\n",
       "    </tr>\n",
       "    <tr>\n",
       "      <th>399</th>\n",
       "      <td>15594041</td>\n",
       "      <td>Female</td>\n",
       "      <td>49</td>\n",
       "      <td>36000</td>\n",
       "      <td>1</td>\n",
       "    </tr>\n",
       "  </tbody>\n",
       "</table>\n",
       "<p>400 rows × 5 columns</p>\n",
       "</div>"
      ],
      "text/plain": [
       "      User ID  Gender  Age  EstimatedSalary  Purchased\n",
       "0    15624510    Male   19            19000          0\n",
       "1    15810944    Male   35            20000          0\n",
       "2    15668575  Female   26            43000          0\n",
       "3    15603246  Female   27            57000          0\n",
       "4    15804002    Male   19            76000          0\n",
       "..        ...     ...  ...              ...        ...\n",
       "395  15691863  Female   46            41000          1\n",
       "396  15706071    Male   51            23000          1\n",
       "397  15654296  Female   50            20000          1\n",
       "398  15755018    Male   36            33000          0\n",
       "399  15594041  Female   49            36000          1\n",
       "\n",
       "[400 rows x 5 columns]"
      ]
     },
     "execution_count": 13,
     "metadata": {},
     "output_type": "execute_result"
    }
   ],
   "source": [
    "import numpy as np\n",
    "from sklearn.datasets import load_iris, load_breast_cancer\n",
    "from sklearn.model_selection import train_test_split\n",
    "from sklearn.linear_model import LogisticRegression\n",
    "from sklearn.metrics import roc_auc_score, roc_curve, auc\n",
    "from sklearn.preprocessing import label_binarize\n",
    "from sklearn.multiclass import OneVsRestClassifier\n",
    "import matplotlib.pyplot as plt\n",
    "\n",
    "\n",
    "dataset = pd.read_csv('Social_Network_Ads.csv')\n",
    "dataset"
   ]
  },
  {
   "cell_type": "code",
   "execution_count": 14,
   "id": "078c04d8-250e-4878-a260-46b8cc2a30ce",
   "metadata": {
    "tags": []
   },
   "outputs": [],
   "source": [
    "X_features = np.array(dataset['EstimatedSalary']).reshape(-1, 1)\n",
    "y_target = np.array(dataset['Purchased']).reshape(-1, 1)\n",
    "y_target = y_target.ravel()"
   ]
  },
  {
   "cell_type": "code",
   "execution_count": 15,
   "id": "21a83bc8-6300-4a48-8d63-8ad41acca952",
   "metadata": {
    "tags": []
   },
   "outputs": [],
   "source": [
    "X_train, X_test, y_train, y_test = train_test_split(X_features, y_target, test_size = 0.25)"
   ]
  },
  {
   "cell_type": "code",
   "execution_count": 16,
   "id": "d31c121c-7177-4331-a226-43f20ef28ac1",
   "metadata": {
    "tags": []
   },
   "outputs": [
    {
     "name": "stdout",
     "output_type": "stream",
     "text": [
      "ROC AUC для бінарної класифікації: 0.7540106951871657\n"
     ]
    }
   ],
   "source": [
    "from sklearn.ensemble import RandomForestClassifier\n",
    "# Ініціалізуємо та навчимо модель\n",
    "model = RandomForestClassifier()\n",
    "model.fit(X_train, y_train)\n",
    "\n",
    "# Отримаємо ймовірності для класу 1 (позитивний клас)\n",
    "y_pred_prob = model.predict_proba(X_test)[:, 1]\n",
    "\n",
    "# Обчислимо ROC AUC\n",
    "roc_auc = roc_auc_score(y_test, y_pred_prob)\n",
    "\n",
    "print(\"ROC AUC для бінарної класифікації:\", roc_auc)"
   ]
  },
  {
   "cell_type": "markdown",
   "id": "eda70f75-25cf-44d5-bf9b-be835b578883",
   "metadata": {},
   "source": [
    "<h3>Оцінка метрики ROC AUC для багатокласової класифікації</h3>"
   ]
  },
  {
   "cell_type": "code",
   "execution_count": 17,
   "id": "2576964d-3c47-47a2-a98e-821300195dc9",
   "metadata": {
    "tags": []
   },
   "outputs": [
    {
     "data": {
      "text/html": [
       "<div>\n",
       "<style scoped>\n",
       "    .dataframe tbody tr th:only-of-type {\n",
       "        vertical-align: middle;\n",
       "    }\n",
       "\n",
       "    .dataframe tbody tr th {\n",
       "        vertical-align: top;\n",
       "    }\n",
       "\n",
       "    .dataframe thead th {\n",
       "        text-align: right;\n",
       "    }\n",
       "</style>\n",
       "<table border=\"1\" class=\"dataframe\">\n",
       "  <thead>\n",
       "    <tr style=\"text-align: right;\">\n",
       "      <th></th>\n",
       "      <th>Age</th>\n",
       "      <th>Sex</th>\n",
       "      <th>BP</th>\n",
       "      <th>Cholesterol</th>\n",
       "      <th>Na_to_K</th>\n",
       "      <th>Drug</th>\n",
       "    </tr>\n",
       "  </thead>\n",
       "  <tbody>\n",
       "    <tr>\n",
       "      <th>0</th>\n",
       "      <td>23</td>\n",
       "      <td>F</td>\n",
       "      <td>HIGH</td>\n",
       "      <td>HIGH</td>\n",
       "      <td>25.355</td>\n",
       "      <td>DrugY</td>\n",
       "    </tr>\n",
       "    <tr>\n",
       "      <th>1</th>\n",
       "      <td>47</td>\n",
       "      <td>M</td>\n",
       "      <td>LOW</td>\n",
       "      <td>HIGH</td>\n",
       "      <td>13.093</td>\n",
       "      <td>drugC</td>\n",
       "    </tr>\n",
       "    <tr>\n",
       "      <th>2</th>\n",
       "      <td>47</td>\n",
       "      <td>M</td>\n",
       "      <td>LOW</td>\n",
       "      <td>HIGH</td>\n",
       "      <td>10.114</td>\n",
       "      <td>drugC</td>\n",
       "    </tr>\n",
       "    <tr>\n",
       "      <th>3</th>\n",
       "      <td>28</td>\n",
       "      <td>F</td>\n",
       "      <td>NORMAL</td>\n",
       "      <td>HIGH</td>\n",
       "      <td>7.798</td>\n",
       "      <td>drugX</td>\n",
       "    </tr>\n",
       "    <tr>\n",
       "      <th>4</th>\n",
       "      <td>61</td>\n",
       "      <td>F</td>\n",
       "      <td>LOW</td>\n",
       "      <td>HIGH</td>\n",
       "      <td>18.043</td>\n",
       "      <td>DrugY</td>\n",
       "    </tr>\n",
       "  </tbody>\n",
       "</table>\n",
       "</div>"
      ],
      "text/plain": [
       "   Age Sex      BP Cholesterol  Na_to_K   Drug\n",
       "0   23   F    HIGH        HIGH   25.355  DrugY\n",
       "1   47   M     LOW        HIGH   13.093  drugC\n",
       "2   47   M     LOW        HIGH   10.114  drugC\n",
       "3   28   F  NORMAL        HIGH    7.798  drugX\n",
       "4   61   F     LOW        HIGH   18.043  DrugY"
      ]
     },
     "execution_count": 17,
     "metadata": {},
     "output_type": "execute_result"
    }
   ],
   "source": [
    "# Завантаження та підготовка даних\n",
    "dataset = pd.read_csv('drug200.csv')\n",
    "dataset.head(5)"
   ]
  },
  {
   "cell_type": "code",
   "execution_count": 18,
   "id": "20c9d078-5f8a-4148-a3e5-117890fa7296",
   "metadata": {
    "tags": []
   },
   "outputs": [
    {
     "name": "stdout",
     "output_type": "stream",
     "text": [
      "['DrugY' 'drugC' 'drugX' 'drugA' 'drugB']\n"
     ]
    }
   ],
   "source": [
    "unique_drugs = dataset['Drug'].unique()\n",
    "print(unique_drugs)"
   ]
  },
  {
   "cell_type": "code",
   "execution_count": 19,
   "id": "78d13291-5f96-4a05-a5cb-ea3b22acee95",
   "metadata": {
    "tags": []
   },
   "outputs": [
    {
     "name": "stdout",
     "output_type": "stream",
     "text": [
      "ROC-AUC Score: 0.8547586842921528\n"
     ]
    }
   ],
   "source": [
    "from sklearn.metrics import roc_auc_score\n",
    "from sklearn.ensemble import RandomForestClassifier\n",
    "\n",
    "# Відділення ознак та цільової змінної\n",
    "X = dataset[['Age', 'Na_to_K']]\n",
    "y = dataset['Drug']\n",
    "\n",
    "X_train, X_test, y_train, y_test = train_test_split(X, y, test_size=0.2, random_state=42)\n",
    "\n",
    "clf = RandomForestClassifier(n_estimators=100, random_state=42)\n",
    "clf.fit(X_train, y_train)\n",
    "\n",
    "y_prob = clf.predict_proba(X_test)\n",
    "roc_auc = roc_auc_score(y_test, y_prob, multi_class='ovr')  # 'ovr' для багатокласової класифікації\n",
    "\n",
    "print(f'ROC-AUC Score: {roc_auc}')"
   ]
  },
  {
   "cell_type": "code",
   "execution_count": null,
   "id": "c3df414b-8441-4987-8c2c-9c9ffb5481c6",
   "metadata": {},
   "outputs": [],
   "source": []
  }
 ],
 "metadata": {
  "kernelspec": {
   "display_name": "Python 3 (ipykernel)",
   "language": "python",
   "name": "python3"
  },
  "language_info": {
   "codemirror_mode": {
    "name": "ipython",
    "version": 3
   },
   "file_extension": ".py",
   "mimetype": "text/x-python",
   "name": "python",
   "nbconvert_exporter": "python",
   "pygments_lexer": "ipython3",
   "version": "3.11.4"
  }
 },
 "nbformat": 4,
 "nbformat_minor": 5
}
